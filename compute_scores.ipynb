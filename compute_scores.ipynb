{
 "cells": [
  {
   "cell_type": "code",
   "execution_count": 12,
   "metadata": {},
   "outputs": [
    {
     "data": {
      "text/html": [
       "<div><style>\n",
       ".dataframe > thead > tr,\n",
       ".dataframe > tbody > tr {\n",
       "  text-align: right;\n",
       "  white-space: pre-wrap;\n",
       "}\n",
       "</style>\n",
       "<small>shape: (5, 13)</small><table border=\"1\" class=\"dataframe\"><thead><tr><th>ID</th><th>CID</th><th>PREMISE</th><th>HYPOTHESIS</th><th>ALTERNATIVE HYPOTHESIS (only if you&#x27;re not using the original one)</th><th>LABEL</th><th>NEW HYPOTHESIS</th><th>NEW LABEL</th><th>CHANGE TYPE</th><th>BASE MODEL</th><th>LARGE1 MODEL</th><th>LARGE2 MODEL</th><th>DIFFICULTY SCORE</th></tr><tr><td>i64</td><td>i64</td><td>str</td><td>str</td><td>str</td><td>str</td><td>str</td><td>str</td><td>str</td><td>str</td><td>str</td><td>str</td><td>str</td></tr></thead><tbody><tr><td>0</td><td>58846</td><td>&quot;Johnny Galecki . He is known f…</td><td>&quot;Johnny Galecki has been in at …</td><td>null</td><td>&quot;NEUTRAL&quot;</td><td>&quot;The number of sitcoms from Fra…</td><td>&quot;ENTAILMENT&quot;</td><td>&quot;rephrasing, math&quot;</td><td>null</td><td>null</td><td>null</td><td>null</td></tr><tr><td>1</td><td>172460</td><td>&quot;Matteo Renzi ( [ matˈtɛːo ˈrɛn…</td><td>&quot;Matteo Renzi served as Prime M…</td><td>null</td><td>&quot;ENTAILMENT&quot;</td><td>&quot;Matteo Renzi was the president…</td><td>&quot;NEUTRAL&quot;</td><td>&quot;coreference&quot;</td><td>null</td><td>null</td><td>null</td><td>null</td></tr><tr><td>2</td><td>181201</td><td>&quot;Southpaw is a 2015 American sp…</td><td>&quot;Southpaw was released 2011.&quot;</td><td>null</td><td>&quot;CONTRADICTION&quot;</td><td>&quot;Among the movies that premiere…</td><td>&quot;ENTAILMENT&quot;</td><td>&quot;math&quot;</td><td>null</td><td>null</td><td>null</td><td>null</td></tr><tr><td>3</td><td>174024</td><td>&quot;Pink Floyd . The final Pink Fl…</td><td>&quot;The Endless River is Pink Floy…</td><td>null</td><td>&quot;CONTRADICTION&quot;</td><td>&quot;counting Pink Floyd&#x27;s albums f…</td><td>&quot;ENTAILMENT&quot;</td><td>&quot;ranking&quot;</td><td>null</td><td>null</td><td>null</td><td>null</td></tr><tr><td>4</td><td>118068</td><td>&quot;Beatles Day . This day is cons…</td><td>&quot;Liverpool is unrelated to The …</td><td>&quot;Beatles Day was celebrated in …</td><td>&quot;CONTRADICTION&quot;</td><td>&quot;20 years before 2024, Beatles …</td><td>&quot;ENTAILMENT&quot;</td><td>&quot;rephrasing&quot;</td><td>null</td><td>null</td><td>null</td><td>null</td></tr></tbody></table></div>"
      ],
      "text/plain": [
       "shape: (5, 13)\n",
       "┌─────┬────────┬─────────────────┬─────────────────┬───┬────────────┬────────┬────────┬────────────┐\n",
       "│ ID  ┆ CID    ┆ PREMISE         ┆ HYPOTHESIS      ┆ … ┆ BASE MODEL ┆ LARGE1 ┆ LARGE2 ┆ DIFFICULTY │\n",
       "│ --- ┆ ---    ┆ ---             ┆ ---             ┆   ┆ ---        ┆ MODEL  ┆ MODEL  ┆ SCORE      │\n",
       "│ i64 ┆ i64    ┆ str             ┆ str             ┆   ┆ str        ┆ ---    ┆ ---    ┆ ---        │\n",
       "│     ┆        ┆                 ┆                 ┆   ┆            ┆ str    ┆ str    ┆ str        │\n",
       "╞═════╪════════╪═════════════════╪═════════════════╪═══╪════════════╪════════╪════════╪════════════╡\n",
       "│ 0   ┆ 58846  ┆ Johnny Galecki  ┆ Johnny Galecki  ┆ … ┆ null       ┆ null   ┆ null   ┆ null       │\n",
       "│     ┆        ┆ . He is known   ┆ has been in at  ┆   ┆            ┆        ┆        ┆            │\n",
       "│     ┆        ┆ f…              ┆ …               ┆   ┆            ┆        ┆        ┆            │\n",
       "│ 1   ┆ 172460 ┆ Matteo Renzi (  ┆ Matteo Renzi    ┆ … ┆ null       ┆ null   ┆ null   ┆ null       │\n",
       "│     ┆        ┆ [ matˈtɛːo      ┆ served as Prime ┆   ┆            ┆        ┆        ┆            │\n",
       "│     ┆        ┆ ˈrɛn…           ┆ M…              ┆   ┆            ┆        ┆        ┆            │\n",
       "│ 2   ┆ 181201 ┆ Southpaw is a   ┆ Southpaw was    ┆ … ┆ null       ┆ null   ┆ null   ┆ null       │\n",
       "│     ┆        ┆ 2015 American   ┆ released 2011.  ┆   ┆            ┆        ┆        ┆            │\n",
       "│     ┆        ┆ sp…             ┆                 ┆   ┆            ┆        ┆        ┆            │\n",
       "│ 3   ┆ 174024 ┆ Pink Floyd .    ┆ The Endless     ┆ … ┆ null       ┆ null   ┆ null   ┆ null       │\n",
       "│     ┆        ┆ The final Pink  ┆ River is Pink   ┆   ┆            ┆        ┆        ┆            │\n",
       "│     ┆        ┆ Fl…             ┆ Floy…           ┆   ┆            ┆        ┆        ┆            │\n",
       "│ 4   ┆ 118068 ┆ Beatles Day .   ┆ Liverpool is    ┆ … ┆ null       ┆ null   ┆ null   ┆ null       │\n",
       "│     ┆        ┆ This day is     ┆ unrelated to    ┆   ┆            ┆        ┆        ┆            │\n",
       "│     ┆        ┆ cons…           ┆ The …           ┆   ┆            ┆        ┆        ┆            │\n",
       "└─────┴────────┴─────────────────┴─────────────────┴───┴────────────┴────────┴────────┴────────────┘"
      ]
     },
     "execution_count": 12,
     "metadata": {},
     "output_type": "execute_result"
    }
   ],
   "source": [
    "import polars as pl\n",
    "\n",
    "df = pl.read_csv(\"fever_test.adversarial.csv\")\n",
    "df.head()"
   ]
  },
  {
   "cell_type": "code",
   "execution_count": null,
   "metadata": {},
   "outputs": [],
   "source": [
    "import torch\n",
    "from transformers import AutoTokenizer, AutoModelForSequenceClassification\n",
    "device = torch.device(\"cuda\") if torch.cuda.is_available() else torch.device(\"cpu\")\n",
    "\n",
    "MODELS = {}\n",
    "TOKENIZERS = {}\n",
    "\n",
    "model_name_base = \"MoritzLaurer/DeBERTa-v3-base-mnli-fever-anli\"\n",
    "model_name_large = \"MoritzLaurer/DeBERTa-v3-large-mnli-fever-anli-ling-wanli\"\n",
    "model_name_large_2 = \"Joelzhang/deberta-v3-large-snli_mnli_fever_anli_R1_R2_R3-nli\"\n",
    "MAP = {\n",
    "    'base' : model_name_base,\n",
    "    'large1': model_name_large,\n",
    "    'large2': model_name_large_2,\n",
    "}\n",
    "\n",
    "for model_name in MAP.values():\n",
    "    print(f\"> loading {model_name}\")\n",
    "    TOKENIZERS[model_name] = AutoTokenizer.from_pretrained(model_name)\n",
    "    MODELS[model_name] = AutoModelForSequenceClassification.from_pretrained(model_name).to(device)\n",
    "\n",
    "\n",
    "def inference(model_name, premise, hypothesis):\n",
    "    model_input = TOKENIZERS[model_name](premise, hypothesis, truncation=False, return_tensors=\"pt\")\n",
    "    output = MODELS[model_name](model_input[\"input_ids\"].to(device))  # device = \"cuda:0\" or \"cpu\"\n",
    "    prediction = torch.softmax(output[\"logits\"][0], -1).tolist()\n",
    "    label_names = [\"ENTAILMENT\", \"NEUTRAL\", \"CONTRADICTION\"]\n",
    "    return {name: round(float(pred) * 100, 1) for pred, name in zip(prediction, label_names)}"
   ]
  },
  {
   "cell_type": "code",
   "execution_count": 20,
   "metadata": {},
   "outputs": [
    {
     "name": "stdout",
     "output_type": "stream",
     "text": [
      "0,1,1\n",
      "0,0,0\n",
      "0,0,0\n",
      "0,0,1\n",
      "0,0,0\n",
      "0,1,0\n",
      "0,0,0\n",
      "0,1,0\n",
      "0,0,0\n",
      "1,1,1\n",
      "1,1,1\n",
      "1,0,0\n",
      "0,1,0\n",
      "0,0,0\n",
      "0,1,1\n",
      "0,1,1\n",
      "0,0,0\n",
      "0,1,1\n",
      "0,0,0\n",
      "0,0,0\n",
      "0,1,0\n",
      "0,0,0\n",
      "0,0,0\n",
      "0,0,1\n",
      "0,1,1\n",
      "0,1,0\n",
      "0,1,0\n",
      "1,1,1\n",
      "0,1,1\n",
      "0,1,1\n",
      "0,0,1\n"
     ]
    }
   ],
   "source": [
    "for i, elem in enumerate(df.iter_rows(named=True)):\n",
    "    result = {'base': None, 'large1': None, 'large2': None}\n",
    "    #print()\n",
    "    #print(elem['LABEL'])\n",
    "    for model_id, model_name in MAP.items(): \n",
    "        prediction = inference(model_name, elem['PREMISE'], elem['NEW HYPOTHESIS'])\n",
    "        #print(prediction)\n",
    "        result[model_id] = max(prediction, key=prediction.get)\n",
    "    print(f\"{int(result['base']==elem['LABEL'])},{int(result['large1']==elem['LABEL'])},{int(result['large2']==elem['LABEL'])}\")\n",
    "    if i == 30:\n",
    "        break"
   ]
  }
 ],
 "metadata": {
  "kernelspec": {
   "display_name": "nlp2024",
   "language": "python",
   "name": "python3"
  },
  "language_info": {
   "codemirror_mode": {
    "name": "ipython",
    "version": 3
   },
   "file_extension": ".py",
   "mimetype": "text/x-python",
   "name": "python",
   "nbconvert_exporter": "python",
   "pygments_lexer": "ipython3",
   "version": "3.9.19"
  }
 },
 "nbformat": 4,
 "nbformat_minor": 2
}
