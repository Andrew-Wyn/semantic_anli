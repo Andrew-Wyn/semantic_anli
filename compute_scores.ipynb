{
 "cells": [
  {
   "cell_type": "code",
   "execution_count": 19,
   "metadata": {},
   "outputs": [],
   "source": [
    "import polars as pl\n",
    "\n",
    "df = pl.read_csv(\"fever_test.adversarial.csv\")"
   ]
  },
  {
   "cell_type": "code",
   "execution_count": 2,
   "metadata": {},
   "outputs": [
    {
     "name": "stdout",
     "output_type": "stream",
     "text": [
      "> loading MoritzLaurer/DeBERTa-v3-base-mnli-fever-anli\n"
     ]
    },
    {
     "data": {
      "application/vnd.jupyter.widget-view+json": {
       "model_id": "aa21c5999b99414fa1087084dd9a3029",
       "version_major": 2,
       "version_minor": 0
      },
      "text/plain": [
       "tokenizer_config.json:   0%|          | 0.00/1.28k [00:00<?, ?B/s]"
      ]
     },
     "metadata": {},
     "output_type": "display_data"
    },
    {
     "data": {
      "application/vnd.jupyter.widget-view+json": {
       "model_id": "c759ce9a629d418a8416f97ea47af9f2",
       "version_major": 2,
       "version_minor": 0
      },
      "text/plain": [
       "spm.model:   0%|          | 0.00/2.46M [00:00<?, ?B/s]"
      ]
     },
     "metadata": {},
     "output_type": "display_data"
    },
    {
     "data": {
      "application/vnd.jupyter.widget-view+json": {
       "model_id": "3620b15db3014ed989ddd5e57d7b57c0",
       "version_major": 2,
       "version_minor": 0
      },
      "text/plain": [
       "tokenizer.json:   0%|          | 0.00/8.66M [00:00<?, ?B/s]"
      ]
     },
     "metadata": {},
     "output_type": "display_data"
    },
    {
     "data": {
      "application/vnd.jupyter.widget-view+json": {
       "model_id": "f7004125dbed49eab1af0c536788c550",
       "version_major": 2,
       "version_minor": 0
      },
      "text/plain": [
       "added_tokens.json:   0%|          | 0.00/23.0 [00:00<?, ?B/s]"
      ]
     },
     "metadata": {},
     "output_type": "display_data"
    },
    {
     "data": {
      "application/vnd.jupyter.widget-view+json": {
       "model_id": "529923c3480843ad8d93914d4678df17",
       "version_major": 2,
       "version_minor": 0
      },
      "text/plain": [
       "special_tokens_map.json:   0%|          | 0.00/286 [00:00<?, ?B/s]"
      ]
     },
     "metadata": {},
     "output_type": "display_data"
    },
    {
     "data": {
      "application/vnd.jupyter.widget-view+json": {
       "model_id": "9f34307ee3594ab192751e0b25b3e3a2",
       "version_major": 2,
       "version_minor": 0
      },
      "text/plain": [
       "config.json:   0%|          | 0.00/1.09k [00:00<?, ?B/s]"
      ]
     },
     "metadata": {},
     "output_type": "display_data"
    },
    {
     "data": {
      "application/vnd.jupyter.widget-view+json": {
       "model_id": "32f10c03ace64cd1a7a99c89190184db",
       "version_major": 2,
       "version_minor": 0
      },
      "text/plain": [
       "model.safetensors:   0%|          | 0.00/369M [00:00<?, ?B/s]"
      ]
     },
     "metadata": {},
     "output_type": "display_data"
    },
    {
     "name": "stdout",
     "output_type": "stream",
     "text": [
      "> loading MoritzLaurer/DeBERTa-v3-large-mnli-fever-anli-ling-wanli\n"
     ]
    },
    {
     "data": {
      "application/vnd.jupyter.widget-view+json": {
       "model_id": "72ca97906d5e41f38514d07f4908b036",
       "version_major": 2,
       "version_minor": 0
      },
      "text/plain": [
       "model.safetensors:   0%|          | 0.00/870M [00:00<?, ?B/s]"
      ]
     },
     "metadata": {},
     "output_type": "display_data"
    },
    {
     "name": "stdout",
     "output_type": "stream",
     "text": [
      "> loading Joelzhang/deberta-v3-large-snli_mnli_fever_anli_R1_R2_R3-nli\n"
     ]
    },
    {
     "data": {
      "application/vnd.jupyter.widget-view+json": {
       "model_id": "50ff93776740438294b64a390b084954",
       "version_major": 2,
       "version_minor": 0
      },
      "text/plain": [
       "tokenizer_config.json:   0%|          | 0.00/310 [00:00<?, ?B/s]"
      ]
     },
     "metadata": {},
     "output_type": "display_data"
    },
    {
     "name": "stderr",
     "output_type": "stream",
     "text": [
      "/home/lucagioffre/miniconda3/envs/nlp2024/lib/python3.9/site-packages/huggingface_hub/file_download.py:1132: FutureWarning: `resume_download` is deprecated and will be removed in version 1.0.0. Downloads always resume when possible. If you want to force a new download, use `force_download=True`.\n",
      "  warnings.warn(\n"
     ]
    },
    {
     "data": {
      "application/vnd.jupyter.widget-view+json": {
       "model_id": "9a308c39303740cd91888b59b10ce7c0",
       "version_major": 2,
       "version_minor": 0
      },
      "text/plain": [
       "config.json:   0%|          | 0.00/1.06k [00:00<?, ?B/s]"
      ]
     },
     "metadata": {},
     "output_type": "display_data"
    },
    {
     "data": {
      "application/vnd.jupyter.widget-view+json": {
       "model_id": "5f79e563d36e44249c54d336167f3c54",
       "version_major": 2,
       "version_minor": 0
      },
      "text/plain": [
       "spm.model:   0%|          | 0.00/2.46M [00:00<?, ?B/s]"
      ]
     },
     "metadata": {},
     "output_type": "display_data"
    },
    {
     "data": {
      "application/vnd.jupyter.widget-view+json": {
       "model_id": "88db44443edd4ca9a9e970494e42d3d5",
       "version_major": 2,
       "version_minor": 0
      },
      "text/plain": [
       "added_tokens.json:   0%|          | 0.00/18.0 [00:00<?, ?B/s]"
      ]
     },
     "metadata": {},
     "output_type": "display_data"
    },
    {
     "data": {
      "application/vnd.jupyter.widget-view+json": {
       "model_id": "78d016fc9aa94848a8fdae80c8393c32",
       "version_major": 2,
       "version_minor": 0
      },
      "text/plain": [
       "special_tokens_map.json:   0%|          | 0.00/112 [00:00<?, ?B/s]"
      ]
     },
     "metadata": {},
     "output_type": "display_data"
    },
    {
     "name": "stderr",
     "output_type": "stream",
     "text": [
      "/home/lucagioffre/miniconda3/envs/nlp2024/lib/python3.9/site-packages/transformers/convert_slow_tokenizer.py:560: UserWarning: The sentencepiece tokenizer that you are converting to a fast tokenizer uses the byte fallback option which is not implemented in the fast tokenizers. In practice this means that the fast version of the tokenizer can produce unknown tokens whereas the sentencepiece version would have converted these unknown tokens into a sequence of byte tokens matching the original piece of text.\n",
      "  warnings.warn(\n"
     ]
    },
    {
     "data": {
      "application/vnd.jupyter.widget-view+json": {
       "model_id": "9e8b0cbe31744e7bb5a7594f9569709a",
       "version_major": 2,
       "version_minor": 0
      },
      "text/plain": [
       "pytorch_model.bin:   0%|          | 0.00/1.74G [00:00<?, ?B/s]"
      ]
     },
     "metadata": {},
     "output_type": "display_data"
    }
   ],
   "source": [
    "import torch\n",
    "from transformers import AutoTokenizer, AutoModelForSequenceClassification\n",
    "device = torch.device(\"cuda\") if torch.cuda.is_available() else torch.device(\"cpu\")\n",
    "\n",
    "MODELS = {}\n",
    "TOKENIZERS = {}\n",
    "\n",
    "model_name_base = \"MoritzLaurer/DeBERTa-v3-base-mnli-fever-anli\"\n",
    "model_name_large = \"MoritzLaurer/DeBERTa-v3-large-mnli-fever-anli-ling-wanli\"\n",
    "model_name_large_2 = \"Joelzhang/deberta-v3-large-snli_mnli_fever_anli_R1_R2_R3-nli\"\n",
    "MAP = {\n",
    "    'base' : model_name_base,\n",
    "    'large1': model_name_large,\n",
    "    'large2': model_name_large_2,\n",
    "}\n",
    "\n",
    "for model_name in MAP.values():\n",
    "    print(f\"> loading {model_name}\")\n",
    "    TOKENIZERS[model_name] = AutoTokenizer.from_pretrained(model_name)\n",
    "    MODELS[model_name] = AutoModelForSequenceClassification.from_pretrained(model_name).to(device)\n",
    "\n",
    "\n",
    "def inference(model_name, premise, hypothesis):\n",
    "    model_input = TOKENIZERS[model_name](premise, hypothesis, truncation=False, return_tensors=\"pt\")\n",
    "    output = MODELS[model_name](model_input[\"input_ids\"].to(device))  # device = \"cuda:0\" or \"cpu\"\n",
    "    prediction = torch.softmax(output[\"logits\"][0], -1).tolist()\n",
    "    label_names = [\"ENTAILMENT\", \"NEUTRAL\", \"CONTRADICTION\"]\n",
    "    return {name: round(float(pred) * 100, 1) for pred, name in zip(prediction, label_names)}"
   ]
  },
  {
   "cell_type": "code",
   "execution_count": 21,
   "metadata": {},
   "outputs": [
    {
     "name": "stdout",
     "output_type": "stream",
     "text": [
      "> using model base :: MoritzLaurer/DeBERTa-v3-base-mnli-fever-anli\n",
      "0. label: NEUTRAL - predicted: ENTAILMENT >>> 1\n",
      "1. label: ENTAILMENT - predicted: NEUTRAL >>> 1\n",
      "2. label: CONTRADICTION - predicted: ENTAILMENT >>> 1\n",
      "3. label: CONTRADICTION - predicted: ENTAILMENT >>> 1\n",
      "4. label: CONTRADICTION - predicted: ENTAILMENT >>> 1\n",
      "5. label: CONTRADICTION - predicted: ENTAILMENT >>> 1\n",
      "6. label: ENTAILMENT - predicted: CONTRADICTION >>> 1\n",
      "7. label: CONTRADICTION - predicted: ENTAILMENT >>> 1\n",
      "8. label: CONTRADICTION - predicted: ENTAILMENT >>> 1\n",
      "9. label: NEUTRAL - predicted: NEUTRAL >>> 0\n",
      "10. label: NEUTRAL - predicted: NEUTRAL >>> 0\n",
      "11. label: NEUTRAL - predicted: NEUTRAL >>> 0\n",
      "12. label: CONTRADICTION - predicted: ENTAILMENT >>> 1\n",
      "13. label: CONTRADICTION - predicted: NEUTRAL >>> 1\n",
      "14. label: NEUTRAL - predicted: ENTAILMENT >>> 1\n",
      "15. label: ENTAILMENT - predicted: CONTRADICTION >>> 1\n",
      "16. label: CONTRADICTION - predicted: ENTAILMENT >>> 1\n",
      "17. label: ENTAILMENT - predicted: CONTRADICTION >>> 1\n",
      "18. label: CONTRADICTION - predicted: NEUTRAL >>> 1\n",
      "19. label: ENTAILMENT - predicted: NEUTRAL >>> 1\n",
      "20. label: CONTRADICTION - predicted: ENTAILMENT >>> 1\n",
      "21. label: ENTAILMENT - predicted: NEUTRAL >>> 1\n",
      "22. label: ENTAILMENT - predicted: CONTRADICTION >>> 1\n",
      "23. label: ENTAILMENT - predicted: NEUTRAL >>> 1\n",
      "24. label: ENTAILMENT - predicted: CONTRADICTION >>> 1\n",
      "25. label: ENTAILMENT - predicted: CONTRADICTION >>> 1\n",
      "26. label: CONTRADICTION - predicted: NEUTRAL >>> 1\n",
      "27. label: NEUTRAL - predicted: NEUTRAL >>> 0\n",
      "28. label: CONTRADICTION - predicted: ENTAILMENT >>> 1\n",
      "29. label: ENTAILMENT - predicted: NEUTRAL >>> 1\n",
      "30. label: NEUTRAL - predicted: ENTAILMENT >>> 1\n",
      "31. label: CONTRADICTION - predicted: NEUTRAL >>> 1\n",
      "32. label: ENTAILMENT - predicted: CONTRADICTION >>> 1\n",
      "33. label: NEUTRAL - predicted: ENTAILMENT >>> 1\n",
      "34. label: ENTAILMENT - predicted: CONTRADICTION >>> 1\n",
      "35. label: CONTRADICTION - predicted: NEUTRAL >>> 1\n",
      "36. label: NEUTRAL - predicted: NEUTRAL >>> 0\n",
      "37. label: CONTRADICTION - predicted: ENTAILMENT >>> 1\n",
      "38. label: CONTRADICTION - predicted: NEUTRAL >>> 1\n",
      "39. label: CONTRADICTION - predicted: NEUTRAL >>> 1\n",
      "40. label: ENTAILMENT - predicted: CONTRADICTION >>> 1\n",
      "41. label: ENTAILMENT - predicted: CONTRADICTION >>> 1\n",
      "42. label: ENTAILMENT - predicted: CONTRADICTION >>> 1\n",
      "43. label: ENTAILMENT - predicted: CONTRADICTION >>> 1\n",
      "44. label: NEUTRAL - predicted: ENTAILMENT >>> 1\n",
      "45. label: CONTRADICTION - predicted: ENTAILMENT >>> 1\n",
      "46. label: CONTRADICTION - predicted: ENTAILMENT >>> 1\n",
      "47. label: ENTAILMENT - predicted: NEUTRAL >>> 1\n",
      "48. label: NEUTRAL - predicted: CONTRADICTION >>> 1\n",
      "49. label: ENTAILMENT - predicted: NEUTRAL >>> 1\n",
      "50. label: ENTAILMENT - predicted: NEUTRAL >>> 1\n",
      "51. label: CONTRADICTION - predicted: ENTAILMENT >>> 1\n",
      "52. label: NEUTRAL - predicted: NEUTRAL >>> 0\n",
      "53. label: NEUTRAL - predicted: ENTAILMENT >>> 1\n",
      "54. label: ENTAILMENT - predicted: NEUTRAL >>> 1\n",
      "55. label: NEUTRAL - predicted: NEUTRAL >>> 0\n",
      "56. label: CONTRADICTION - predicted: ENTAILMENT >>> 1\n",
      "57. label: NEUTRAL - predicted: CONTRADICTION >>> 1\n",
      "58. label: CONTRADICTION - predicted: NEUTRAL >>> 1\n",
      "59. label: NEUTRAL - predicted: CONTRADICTION >>> 1\n",
      "60. label: NEUTRAL - predicted: ENTAILMENT >>> 1\n",
      "61. label: ENTAILMENT - predicted: ENTAILMENT >>> 0\n",
      "62. label: CONTRADICTION - predicted: ENTAILMENT >>> 1\n",
      "63. label: ENTAILMENT - predicted: CONTRADICTION >>> 1\n",
      "64. label: CONTRADICTION - predicted: ENTAILMENT >>> 1\n",
      "65. label: ENTAILMENT - predicted: NEUTRAL >>> 1\n",
      "66. label: ENTAILMENT - predicted: ENTAILMENT >>> 0\n",
      "67. label: ENTAILMENT - predicted: ENTAILMENT >>> 0\n",
      "68. label: CONTRADICTION - predicted: CONTRADICTION >>> 0\n",
      "69. label: NEUTRAL - predicted: NEUTRAL >>> 0\n",
      "70. label: CONTRADICTION - predicted: ENTAILMENT >>> 1\n",
      "71. label: NEUTRAL - predicted: ENTAILMENT >>> 1\n",
      "72. label: NEUTRAL - predicted: NEUTRAL >>> 0\n",
      "73. label: CONTRADICTION - predicted: ENTAILMENT >>> 1\n",
      "74. label: NEUTRAL - predicted: NEUTRAL >>> 0\n",
      "75. label: ENTAILMENT - predicted: NEUTRAL >>> 1\n",
      "76. label: CONTRADICTION - predicted: NEUTRAL >>> 1\n",
      "77. label: NEUTRAL - predicted: ENTAILMENT >>> 1\n",
      "78. label: ENTAILMENT - predicted: NEUTRAL >>> 1\n",
      "79. label: NEUTRAL - predicted: ENTAILMENT >>> 1\n",
      "80. label: ENTAILMENT - predicted: NEUTRAL >>> 1\n",
      "81. label: NEUTRAL - predicted: ENTAILMENT >>> 1\n",
      "82. label: NEUTRAL - predicted: ENTAILMENT >>> 1\n",
      "83. label: CONTRADICTION - predicted: NEUTRAL >>> 1\n",
      "84. label: ENTAILMENT - predicted: CONTRADICTION >>> 1\n",
      "85. label: NEUTRAL - predicted: NEUTRAL >>> 0\n",
      "86. label: CONTRADICTION - predicted: ENTAILMENT >>> 1\n",
      "87. label: NEUTRAL - predicted: ENTAILMENT >>> 1\n",
      "88. label: NEUTRAL - predicted: ENTAILMENT >>> 1\n",
      "89. label: NEUTRAL - predicted: CONTRADICTION >>> 1\n",
      "90. label: CONTRADICTION - predicted: ENTAILMENT >>> 1\n",
      "91. label: NEUTRAL - predicted: ENTAILMENT >>> 1\n",
      "92. label: NEUTRAL - predicted: NEUTRAL >>> 0\n",
      "93. label: NEUTRAL - predicted: ENTAILMENT >>> 1\n",
      "94. label: CONTRADICTION - predicted: NEUTRAL >>> 1\n",
      "95. label: NEUTRAL - predicted: ENTAILMENT >>> 1\n",
      "96. label: ENTAILMENT - predicted: CONTRADICTION >>> 1\n",
      "97. label: CONTRADICTION - predicted: ENTAILMENT >>> 1\n",
      "98. label: NEUTRAL - predicted: NEUTRAL >>> 0\n",
      "99. label: CONTRADICTION - predicted: NEUTRAL >>> 1\n",
      "100. label: NEUTRAL - predicted: NEUTRAL >>> 0\n",
      "101. label: ENTAILMENT - predicted: CONTRADICTION >>> 1\n",
      "102. label: NEUTRAL - predicted: CONTRADICTION >>> 1\n",
      "103. label: CONTRADICTION - predicted: NEUTRAL >>> 1\n",
      "104. label: NEUTRAL - predicted: ENTAILMENT >>> 1\n",
      "105. label: ENTAILMENT - predicted: CONTRADICTION >>> 1\n",
      "106. label: NEUTRAL - predicted: CONTRADICTION >>> 1\n",
      "107. label: CONTRADICTION - predicted: CONTRADICTION >>> 0\n",
      "108. label: ENTAILMENT - predicted: CONTRADICTION >>> 1\n",
      "109. label: ENTAILMENT - predicted: CONTRADICTION >>> 1\n",
      "110. label: ENTAILMENT - predicted: NEUTRAL >>> 1\n",
      "111. label: ENTAILMENT - predicted: NEUTRAL >>> 1\n",
      "112. label: NEUTRAL - predicted: ENTAILMENT >>> 1\n",
      "113. label: ENTAILMENT - predicted: ENTAILMENT >>> 0\n",
      "114. label: CONTRADICTION - predicted: CONTRADICTION >>> 0\n",
      "115. label: ENTAILMENT - predicted: CONTRADICTION >>> 1\n",
      "116. label: NEUTRAL - predicted: ENTAILMENT >>> 1\n",
      "117. label: NEUTRAL - predicted: NEUTRAL >>> 0\n",
      "118. label: CONTRADICTION - predicted: CONTRADICTION >>> 0\n",
      "119. label: NEUTRAL - predicted: ENTAILMENT >>> 1\n",
      "120. label: ENTAILMENT - predicted: NEUTRAL >>> 1\n",
      "121. label: NEUTRAL - predicted: CONTRADICTION >>> 1\n",
      "122. label: ENTAILMENT - predicted: CONTRADICTION >>> 1\n",
      "123. label: NEUTRAL - predicted: NEUTRAL >>> 0\n",
      "124. label: CONTRADICTION - predicted: NEUTRAL >>> 1\n",
      "125. label: CONTRADICTION - predicted: ENTAILMENT >>> 1\n",
      "126. label: CONTRADICTION - predicted: ENTAILMENT >>> 1\n",
      "127. label: NEUTRAL - predicted: CONTRADICTION >>> 1\n",
      "128. label: ENTAILMENT - predicted: CONTRADICTION >>> 1\n",
      "129. label: NEUTRAL - predicted: ENTAILMENT >>> 1\n",
      "130. label: NEUTRAL - predicted: ENTAILMENT >>> 1\n",
      "131. label: NEUTRAL - predicted: CONTRADICTION >>> 1\n",
      "132. label: ENTAILMENT - predicted: CONTRADICTION >>> 1\n",
      "133. label: ENTAILMENT - predicted: CONTRADICTION >>> 1\n",
      "134. label: ENTAILMENT - predicted: ENTAILMENT >>> 0\n",
      "135. label: CONTRADICTION - predicted: NEUTRAL >>> 1\n",
      "136. label: CONTRADICTION - predicted: ENTAILMENT >>> 1\n",
      "137. label: CONTRADICTION - predicted: ENTAILMENT >>> 1\n",
      "138. label: CONTRADICTION - predicted: NEUTRAL >>> 1\n",
      "139. label: ENTAILMENT - predicted: NEUTRAL >>> 1\n",
      "140. label: NEUTRAL - predicted: ENTAILMENT >>> 1\n",
      "141. label: CONTRADICTION - predicted: ENTAILMENT >>> 1\n",
      "142. label: CONTRADICTION - predicted: ENTAILMENT >>> 1\n",
      "143. label: CONTRADICTION - predicted: ENTAILMENT >>> 1\n",
      "144. label: ENTAILMENT - predicted: CONTRADICTION >>> 1\n",
      "145. label: ENTAILMENT - predicted: CONTRADICTION >>> 1\n",
      "146. label: NEUTRAL - predicted: ENTAILMENT >>> 1\n",
      "147. label: ENTAILMENT - predicted: NEUTRAL >>> 1\n",
      "148. label: CONTRADICTION - predicted: ENTAILMENT >>> 1\n",
      "149. label: ENTAILMENT - predicted: NEUTRAL >>> 1\n",
      "> using model large1 :: MoritzLaurer/DeBERTa-v3-large-mnli-fever-anli-ling-wanli\n",
      "0. label: NEUTRAL - predicted: NEUTRAL >>> 0\n",
      "1. label: ENTAILMENT - predicted: NEUTRAL >>> 1\n",
      "2. label: CONTRADICTION - predicted: ENTAILMENT >>> 1\n",
      "3. label: CONTRADICTION - predicted: ENTAILMENT >>> 1\n",
      "4. label: CONTRADICTION - predicted: ENTAILMENT >>> 1\n",
      "5. label: CONTRADICTION - predicted: CONTRADICTION >>> 0\n",
      "6. label: ENTAILMENT - predicted: CONTRADICTION >>> 1\n",
      "7. label: CONTRADICTION - predicted: CONTRADICTION >>> 0\n",
      "8. label: CONTRADICTION - predicted: ENTAILMENT >>> 1\n",
      "9. label: NEUTRAL - predicted: NEUTRAL >>> 0\n",
      "10. label: NEUTRAL - predicted: NEUTRAL >>> 0\n",
      "11. label: NEUTRAL - predicted: ENTAILMENT >>> 1\n",
      "12. label: CONTRADICTION - predicted: CONTRADICTION >>> 0\n",
      "13. label: CONTRADICTION - predicted: NEUTRAL >>> 1\n",
      "14. label: NEUTRAL - predicted: NEUTRAL >>> 0\n",
      "15. label: ENTAILMENT - predicted: ENTAILMENT >>> 0\n",
      "16. label: CONTRADICTION - predicted: ENTAILMENT >>> 1\n",
      "17. label: ENTAILMENT - predicted: ENTAILMENT >>> 0\n",
      "18. label: CONTRADICTION - predicted: NEUTRAL >>> 1\n",
      "19. label: ENTAILMENT - predicted: NEUTRAL >>> 1\n",
      "20. label: CONTRADICTION - predicted: CONTRADICTION >>> 0\n",
      "21. label: ENTAILMENT - predicted: NEUTRAL >>> 1\n",
      "22. label: ENTAILMENT - predicted: CONTRADICTION >>> 1\n",
      "23. label: ENTAILMENT - predicted: NEUTRAL >>> 1\n",
      "24. label: ENTAILMENT - predicted: ENTAILMENT >>> 0\n",
      "25. label: ENTAILMENT - predicted: ENTAILMENT >>> 0\n",
      "26. label: CONTRADICTION - predicted: CONTRADICTION >>> 0\n",
      "27. label: NEUTRAL - predicted: NEUTRAL >>> 0\n",
      "28. label: CONTRADICTION - predicted: CONTRADICTION >>> 0\n",
      "29. label: ENTAILMENT - predicted: ENTAILMENT >>> 0\n",
      "30. label: NEUTRAL - predicted: ENTAILMENT >>> 1\n",
      "31. label: CONTRADICTION - predicted: CONTRADICTION >>> 0\n",
      "32. label: ENTAILMENT - predicted: CONTRADICTION >>> 1\n",
      "33. label: NEUTRAL - predicted: NEUTRAL >>> 0\n",
      "34. label: ENTAILMENT - predicted: NEUTRAL >>> 1\n",
      "35. label: CONTRADICTION - predicted: CONTRADICTION >>> 0\n",
      "36. label: NEUTRAL - predicted: ENTAILMENT >>> 1\n",
      "37. label: CONTRADICTION - predicted: ENTAILMENT >>> 1\n",
      "38. label: CONTRADICTION - predicted: ENTAILMENT >>> 1\n",
      "39. label: CONTRADICTION - predicted: NEUTRAL >>> 1\n",
      "40. label: ENTAILMENT - predicted: CONTRADICTION >>> 1\n",
      "41. label: ENTAILMENT - predicted: ENTAILMENT >>> 0\n",
      "42. label: ENTAILMENT - predicted: NEUTRAL >>> 1\n",
      "43. label: ENTAILMENT - predicted: ENTAILMENT >>> 0\n",
      "44. label: NEUTRAL - predicted: ENTAILMENT >>> 1\n",
      "45. label: CONTRADICTION - predicted: ENTAILMENT >>> 1\n",
      "46. label: CONTRADICTION - predicted: ENTAILMENT >>> 1\n",
      "47. label: ENTAILMENT - predicted: ENTAILMENT >>> 0\n",
      "48. label: NEUTRAL - predicted: NEUTRAL >>> 0\n",
      "49. label: ENTAILMENT - predicted: NEUTRAL >>> 1\n",
      "50. label: ENTAILMENT - predicted: ENTAILMENT >>> 0\n",
      "51. label: CONTRADICTION - predicted: ENTAILMENT >>> 1\n",
      "52. label: NEUTRAL - predicted: ENTAILMENT >>> 1\n",
      "53. label: NEUTRAL - predicted: ENTAILMENT >>> 1\n",
      "54. label: ENTAILMENT - predicted: NEUTRAL >>> 1\n",
      "55. label: NEUTRAL - predicted: ENTAILMENT >>> 1\n",
      "56. label: CONTRADICTION - predicted: CONTRADICTION >>> 0\n",
      "57. label: NEUTRAL - predicted: ENTAILMENT >>> 1\n",
      "58. label: CONTRADICTION - predicted: NEUTRAL >>> 1\n",
      "59. label: NEUTRAL - predicted: CONTRADICTION >>> 1\n",
      "60. label: NEUTRAL - predicted: ENTAILMENT >>> 1\n",
      "61. label: ENTAILMENT - predicted: NEUTRAL >>> 1\n",
      "62. label: CONTRADICTION - predicted: ENTAILMENT >>> 1\n",
      "63. label: ENTAILMENT - predicted: CONTRADICTION >>> 1\n",
      "64. label: CONTRADICTION - predicted: ENTAILMENT >>> 1\n",
      "65. label: ENTAILMENT - predicted: NEUTRAL >>> 1\n",
      "66. label: ENTAILMENT - predicted: CONTRADICTION >>> 1\n",
      "67. label: ENTAILMENT - predicted: NEUTRAL >>> 1\n",
      "68. label: CONTRADICTION - predicted: NEUTRAL >>> 1\n",
      "69. label: NEUTRAL - predicted: NEUTRAL >>> 0\n",
      "70. label: CONTRADICTION - predicted: ENTAILMENT >>> 1\n",
      "71. label: NEUTRAL - predicted: CONTRADICTION >>> 1\n",
      "72. label: NEUTRAL - predicted: ENTAILMENT >>> 1\n",
      "73. label: CONTRADICTION - predicted: ENTAILMENT >>> 1\n",
      "74. label: NEUTRAL - predicted: ENTAILMENT >>> 1\n",
      "75. label: ENTAILMENT - predicted: NEUTRAL >>> 1\n",
      "76. label: CONTRADICTION - predicted: CONTRADICTION >>> 0\n",
      "77. label: NEUTRAL - predicted: NEUTRAL >>> 0\n",
      "78. label: ENTAILMENT - predicted: NEUTRAL >>> 1\n",
      "79. label: NEUTRAL - predicted: ENTAILMENT >>> 1\n",
      "80. label: ENTAILMENT - predicted: ENTAILMENT >>> 0\n",
      "81. label: NEUTRAL - predicted: NEUTRAL >>> 0\n",
      "82. label: NEUTRAL - predicted: NEUTRAL >>> 0\n",
      "83. label: CONTRADICTION - predicted: NEUTRAL >>> 1\n",
      "84. label: ENTAILMENT - predicted: CONTRADICTION >>> 1\n",
      "85. label: NEUTRAL - predicted: ENTAILMENT >>> 1\n",
      "86. label: CONTRADICTION - predicted: ENTAILMENT >>> 1\n",
      "87. label: NEUTRAL - predicted: NEUTRAL >>> 0\n",
      "88. label: NEUTRAL - predicted: ENTAILMENT >>> 1\n",
      "89. label: NEUTRAL - predicted: NEUTRAL >>> 0\n",
      "90. label: CONTRADICTION - predicted: CONTRADICTION >>> 0\n",
      "91. label: NEUTRAL - predicted: ENTAILMENT >>> 1\n",
      "92. label: NEUTRAL - predicted: ENTAILMENT >>> 1\n",
      "93. label: NEUTRAL - predicted: NEUTRAL >>> 0\n",
      "94. label: CONTRADICTION - predicted: NEUTRAL >>> 1\n",
      "95. label: NEUTRAL - predicted: ENTAILMENT >>> 1\n",
      "96. label: ENTAILMENT - predicted: ENTAILMENT >>> 0\n",
      "97. label: CONTRADICTION - predicted: ENTAILMENT >>> 1\n",
      "98. label: NEUTRAL - predicted: ENTAILMENT >>> 1\n",
      "99. label: CONTRADICTION - predicted: ENTAILMENT >>> 1\n",
      "100. label: NEUTRAL - predicted: ENTAILMENT >>> 1\n",
      "101. label: ENTAILMENT - predicted: CONTRADICTION >>> 1\n",
      "102. label: NEUTRAL - predicted: NEUTRAL >>> 0\n",
      "103. label: CONTRADICTION - predicted: NEUTRAL >>> 1\n",
      "104. label: NEUTRAL - predicted: ENTAILMENT >>> 1\n",
      "105. label: ENTAILMENT - predicted: ENTAILMENT >>> 0\n",
      "106. label: NEUTRAL - predicted: CONTRADICTION >>> 1\n",
      "107. label: CONTRADICTION - predicted: NEUTRAL >>> 1\n",
      "108. label: ENTAILMENT - predicted: ENTAILMENT >>> 0\n",
      "109. label: ENTAILMENT - predicted: ENTAILMENT >>> 0\n",
      "110. label: ENTAILMENT - predicted: ENTAILMENT >>> 0\n",
      "111. label: ENTAILMENT - predicted: NEUTRAL >>> 1\n",
      "112. label: NEUTRAL - predicted: ENTAILMENT >>> 1\n",
      "113. label: ENTAILMENT - predicted: NEUTRAL >>> 1\n",
      "114. label: CONTRADICTION - predicted: NEUTRAL >>> 1\n",
      "115. label: ENTAILMENT - predicted: ENTAILMENT >>> 0\n",
      "116. label: NEUTRAL - predicted: ENTAILMENT >>> 1\n",
      "117. label: NEUTRAL - predicted: ENTAILMENT >>> 1\n",
      "118. label: CONTRADICTION - predicted: NEUTRAL >>> 1\n",
      "119. label: NEUTRAL - predicted: ENTAILMENT >>> 1\n",
      "120. label: ENTAILMENT - predicted: NEUTRAL >>> 1\n",
      "121. label: NEUTRAL - predicted: CONTRADICTION >>> 1\n",
      "122. label: ENTAILMENT - predicted: CONTRADICTION >>> 1\n",
      "123. label: NEUTRAL - predicted: CONTRADICTION >>> 1\n",
      "124. label: CONTRADICTION - predicted: CONTRADICTION >>> 0\n",
      "125. label: CONTRADICTION - predicted: ENTAILMENT >>> 1\n",
      "126. label: CONTRADICTION - predicted: ENTAILMENT >>> 1\n",
      "127. label: NEUTRAL - predicted: NEUTRAL >>> 0\n",
      "128. label: ENTAILMENT - predicted: CONTRADICTION >>> 1\n",
      "129. label: NEUTRAL - predicted: ENTAILMENT >>> 1\n",
      "130. label: NEUTRAL - predicted: ENTAILMENT >>> 1\n",
      "131. label: NEUTRAL - predicted: NEUTRAL >>> 0\n",
      "132. label: ENTAILMENT - predicted: NEUTRAL >>> 1\n",
      "133. label: ENTAILMENT - predicted: ENTAILMENT >>> 0\n",
      "134. label: ENTAILMENT - predicted: CONTRADICTION >>> 1\n",
      "135. label: CONTRADICTION - predicted: NEUTRAL >>> 1\n",
      "136. label: CONTRADICTION - predicted: ENTAILMENT >>> 1\n",
      "137. label: CONTRADICTION - predicted: ENTAILMENT >>> 1\n",
      "138. label: CONTRADICTION - predicted: CONTRADICTION >>> 0\n",
      "139. label: ENTAILMENT - predicted: ENTAILMENT >>> 0\n",
      "140. label: NEUTRAL - predicted: ENTAILMENT >>> 1\n",
      "141. label: CONTRADICTION - predicted: CONTRADICTION >>> 0\n",
      "142. label: CONTRADICTION - predicted: ENTAILMENT >>> 1\n",
      "143. label: CONTRADICTION - predicted: ENTAILMENT >>> 1\n",
      "144. label: ENTAILMENT - predicted: ENTAILMENT >>> 0\n",
      "145. label: ENTAILMENT - predicted: CONTRADICTION >>> 1\n",
      "146. label: NEUTRAL - predicted: NEUTRAL >>> 0\n",
      "147. label: ENTAILMENT - predicted: ENTAILMENT >>> 0\n",
      "148. label: CONTRADICTION - predicted: ENTAILMENT >>> 1\n",
      "149. label: ENTAILMENT - predicted: NEUTRAL >>> 1\n",
      "> using model large2 :: Joelzhang/deberta-v3-large-snli_mnli_fever_anli_R1_R2_R3-nli\n",
      "0. label: NEUTRAL - predicted: NEUTRAL >>> 0\n",
      "1. label: ENTAILMENT - predicted: NEUTRAL >>> 1\n",
      "2. label: CONTRADICTION - predicted: ENTAILMENT >>> 1\n",
      "3. label: CONTRADICTION - predicted: CONTRADICTION >>> 0\n",
      "4. label: CONTRADICTION - predicted: ENTAILMENT >>> 1\n",
      "5. label: CONTRADICTION - predicted: ENTAILMENT >>> 1\n",
      "6. label: ENTAILMENT - predicted: CONTRADICTION >>> 1\n",
      "7. label: CONTRADICTION - predicted: ENTAILMENT >>> 1\n",
      "8. label: CONTRADICTION - predicted: NEUTRAL >>> 1\n",
      "9. label: NEUTRAL - predicted: NEUTRAL >>> 0\n",
      "10. label: NEUTRAL - predicted: NEUTRAL >>> 0\n",
      "11. label: NEUTRAL - predicted: ENTAILMENT >>> 1\n",
      "12. label: CONTRADICTION - predicted: ENTAILMENT >>> 1\n",
      "13. label: CONTRADICTION - predicted: NEUTRAL >>> 1\n",
      "14. label: NEUTRAL - predicted: NEUTRAL >>> 0\n",
      "15. label: ENTAILMENT - predicted: ENTAILMENT >>> 0\n",
      "16. label: CONTRADICTION - predicted: ENTAILMENT >>> 1\n",
      "17. label: ENTAILMENT - predicted: ENTAILMENT >>> 0\n",
      "18. label: CONTRADICTION - predicted: NEUTRAL >>> 1\n",
      "19. label: ENTAILMENT - predicted: NEUTRAL >>> 1\n",
      "20. label: CONTRADICTION - predicted: ENTAILMENT >>> 1\n",
      "21. label: ENTAILMENT - predicted: NEUTRAL >>> 1\n",
      "22. label: ENTAILMENT - predicted: CONTRADICTION >>> 1\n",
      "23. label: ENTAILMENT - predicted: ENTAILMENT >>> 0\n",
      "24. label: ENTAILMENT - predicted: ENTAILMENT >>> 0\n",
      "25. label: ENTAILMENT - predicted: CONTRADICTION >>> 1\n",
      "26. label: CONTRADICTION - predicted: NEUTRAL >>> 1\n",
      "27. label: NEUTRAL - predicted: NEUTRAL >>> 0\n",
      "28. label: CONTRADICTION - predicted: CONTRADICTION >>> 0\n",
      "29. label: ENTAILMENT - predicted: ENTAILMENT >>> 0\n",
      "30. label: NEUTRAL - predicted: NEUTRAL >>> 0\n",
      "31. label: CONTRADICTION - predicted: CONTRADICTION >>> 0\n",
      "32. label: ENTAILMENT - predicted: ENTAILMENT >>> 0\n",
      "33. label: NEUTRAL - predicted: NEUTRAL >>> 0\n",
      "34. label: ENTAILMENT - predicted: ENTAILMENT >>> 0\n",
      "35. label: CONTRADICTION - predicted: NEUTRAL >>> 1\n",
      "36. label: NEUTRAL - predicted: NEUTRAL >>> 0\n",
      "37. label: CONTRADICTION - predicted: CONTRADICTION >>> 0\n",
      "38. label: CONTRADICTION - predicted: ENTAILMENT >>> 1\n",
      "39. label: CONTRADICTION - predicted: NEUTRAL >>> 1\n",
      "40. label: ENTAILMENT - predicted: CONTRADICTION >>> 1\n",
      "41. label: ENTAILMENT - predicted: ENTAILMENT >>> 0\n",
      "42. label: ENTAILMENT - predicted: CONTRADICTION >>> 1\n",
      "43. label: ENTAILMENT - predicted: ENTAILMENT >>> 0\n",
      "44. label: NEUTRAL - predicted: ENTAILMENT >>> 1\n",
      "45. label: CONTRADICTION - predicted: ENTAILMENT >>> 1\n",
      "46. label: CONTRADICTION - predicted: ENTAILMENT >>> 1\n",
      "47. label: ENTAILMENT - predicted: ENTAILMENT >>> 0\n",
      "48. label: NEUTRAL - predicted: CONTRADICTION >>> 1\n",
      "49. label: ENTAILMENT - predicted: NEUTRAL >>> 1\n",
      "50. label: ENTAILMENT - predicted: NEUTRAL >>> 1\n",
      "51. label: CONTRADICTION - predicted: CONTRADICTION >>> 0\n",
      "52. label: NEUTRAL - predicted: ENTAILMENT >>> 1\n",
      "53. label: NEUTRAL - predicted: ENTAILMENT >>> 1\n",
      "54. label: ENTAILMENT - predicted: ENTAILMENT >>> 0\n",
      "55. label: NEUTRAL - predicted: ENTAILMENT >>> 1\n",
      "56. label: CONTRADICTION - predicted: CONTRADICTION >>> 0\n",
      "57. label: NEUTRAL - predicted: CONTRADICTION >>> 1\n",
      "58. label: CONTRADICTION - predicted: NEUTRAL >>> 1\n",
      "59. label: NEUTRAL - predicted: CONTRADICTION >>> 1\n",
      "60. label: NEUTRAL - predicted: ENTAILMENT >>> 1\n",
      "61. label: ENTAILMENT - predicted: NEUTRAL >>> 1\n",
      "62. label: CONTRADICTION - predicted: ENTAILMENT >>> 1\n",
      "63. label: ENTAILMENT - predicted: ENTAILMENT >>> 0\n",
      "64. label: CONTRADICTION - predicted: CONTRADICTION >>> 0\n",
      "65. label: ENTAILMENT - predicted: NEUTRAL >>> 1\n",
      "66. label: ENTAILMENT - predicted: ENTAILMENT >>> 0\n",
      "67. label: ENTAILMENT - predicted: NEUTRAL >>> 1\n",
      "68. label: CONTRADICTION - predicted: CONTRADICTION >>> 0\n",
      "69. label: NEUTRAL - predicted: NEUTRAL >>> 0\n",
      "70. label: CONTRADICTION - predicted: ENTAILMENT >>> 1\n",
      "71. label: NEUTRAL - predicted: NEUTRAL >>> 0\n",
      "72. label: NEUTRAL - predicted: ENTAILMENT >>> 1\n",
      "73. label: CONTRADICTION - predicted: ENTAILMENT >>> 1\n",
      "74. label: NEUTRAL - predicted: NEUTRAL >>> 0\n",
      "75. label: ENTAILMENT - predicted: CONTRADICTION >>> 1\n",
      "76. label: CONTRADICTION - predicted: CONTRADICTION >>> 0\n",
      "77. label: NEUTRAL - predicted: NEUTRAL >>> 0\n",
      "78. label: ENTAILMENT - predicted: NEUTRAL >>> 1\n",
      "79. label: NEUTRAL - predicted: ENTAILMENT >>> 1\n",
      "80. label: ENTAILMENT - predicted: NEUTRAL >>> 1\n",
      "81. label: NEUTRAL - predicted: ENTAILMENT >>> 1\n",
      "82. label: NEUTRAL - predicted: ENTAILMENT >>> 1\n",
      "83. label: CONTRADICTION - predicted: CONTRADICTION >>> 0\n",
      "84. label: ENTAILMENT - predicted: CONTRADICTION >>> 1\n",
      "85. label: NEUTRAL - predicted: ENTAILMENT >>> 1\n",
      "86. label: CONTRADICTION - predicted: ENTAILMENT >>> 1\n",
      "87. label: NEUTRAL - predicted: ENTAILMENT >>> 1\n",
      "88. label: NEUTRAL - predicted: ENTAILMENT >>> 1\n",
      "89. label: NEUTRAL - predicted: NEUTRAL >>> 0\n",
      "90. label: CONTRADICTION - predicted: CONTRADICTION >>> 0\n",
      "91. label: NEUTRAL - predicted: ENTAILMENT >>> 1\n",
      "92. label: NEUTRAL - predicted: NEUTRAL >>> 0\n",
      "93. label: NEUTRAL - predicted: NEUTRAL >>> 0\n",
      "94. label: CONTRADICTION - predicted: NEUTRAL >>> 1\n",
      "95. label: NEUTRAL - predicted: ENTAILMENT >>> 1\n",
      "96. label: ENTAILMENT - predicted: ENTAILMENT >>> 0\n",
      "97. label: CONTRADICTION - predicted: ENTAILMENT >>> 1\n",
      "98. label: NEUTRAL - predicted: NEUTRAL >>> 0\n",
      "99. label: CONTRADICTION - predicted: NEUTRAL >>> 1\n",
      "100. label: NEUTRAL - predicted: NEUTRAL >>> 0\n",
      "101. label: ENTAILMENT - predicted: ENTAILMENT >>> 0\n",
      "102. label: NEUTRAL - predicted: CONTRADICTION >>> 1\n",
      "103. label: CONTRADICTION - predicted: CONTRADICTION >>> 0\n",
      "104. label: NEUTRAL - predicted: ENTAILMENT >>> 1\n",
      "105. label: ENTAILMENT - predicted: ENTAILMENT >>> 0\n",
      "106. label: NEUTRAL - predicted: NEUTRAL >>> 0\n",
      "107. label: CONTRADICTION - predicted: CONTRADICTION >>> 0\n",
      "108. label: ENTAILMENT - predicted: ENTAILMENT >>> 0\n",
      "109. label: ENTAILMENT - predicted: CONTRADICTION >>> 1\n",
      "110. label: ENTAILMENT - predicted: ENTAILMENT >>> 0\n",
      "111. label: ENTAILMENT - predicted: NEUTRAL >>> 1\n",
      "112. label: NEUTRAL - predicted: NEUTRAL >>> 0\n",
      "113. label: ENTAILMENT - predicted: NEUTRAL >>> 1\n",
      "114. label: CONTRADICTION - predicted: CONTRADICTION >>> 0\n",
      "115. label: ENTAILMENT - predicted: ENTAILMENT >>> 0\n",
      "116. label: NEUTRAL - predicted: ENTAILMENT >>> 1\n",
      "117. label: NEUTRAL - predicted: NEUTRAL >>> 0\n",
      "118. label: CONTRADICTION - predicted: CONTRADICTION >>> 0\n",
      "119. label: NEUTRAL - predicted: ENTAILMENT >>> 1\n",
      "120. label: ENTAILMENT - predicted: NEUTRAL >>> 1\n",
      "121. label: NEUTRAL - predicted: NEUTRAL >>> 0\n",
      "122. label: ENTAILMENT - predicted: CONTRADICTION >>> 1\n",
      "123. label: NEUTRAL - predicted: CONTRADICTION >>> 1\n",
      "124. label: CONTRADICTION - predicted: CONTRADICTION >>> 0\n",
      "125. label: CONTRADICTION - predicted: ENTAILMENT >>> 1\n",
      "126. label: CONTRADICTION - predicted: ENTAILMENT >>> 1\n",
      "127. label: NEUTRAL - predicted: CONTRADICTION >>> 1\n",
      "128. label: ENTAILMENT - predicted: CONTRADICTION >>> 1\n",
      "129. label: NEUTRAL - predicted: NEUTRAL >>> 0\n",
      "130. label: NEUTRAL - predicted: ENTAILMENT >>> 1\n",
      "131. label: NEUTRAL - predicted: NEUTRAL >>> 0\n",
      "132. label: ENTAILMENT - predicted: CONTRADICTION >>> 1\n",
      "133. label: ENTAILMENT - predicted: ENTAILMENT >>> 0\n",
      "134. label: ENTAILMENT - predicted: ENTAILMENT >>> 0\n",
      "135. label: CONTRADICTION - predicted: NEUTRAL >>> 1\n",
      "136. label: CONTRADICTION - predicted: ENTAILMENT >>> 1\n",
      "137. label: CONTRADICTION - predicted: ENTAILMENT >>> 1\n",
      "138. label: CONTRADICTION - predicted: CONTRADICTION >>> 0\n",
      "139. label: ENTAILMENT - predicted: NEUTRAL >>> 1\n",
      "140. label: NEUTRAL - predicted: NEUTRAL >>> 0\n",
      "141. label: CONTRADICTION - predicted: CONTRADICTION >>> 0\n",
      "142. label: CONTRADICTION - predicted: NEUTRAL >>> 1\n",
      "143. label: CONTRADICTION - predicted: ENTAILMENT >>> 1\n",
      "144. label: ENTAILMENT - predicted: ENTAILMENT >>> 0\n",
      "145. label: ENTAILMENT - predicted: CONTRADICTION >>> 1\n",
      "146. label: NEUTRAL - predicted: ENTAILMENT >>> 1\n",
      "147. label: ENTAILMENT - predicted: NEUTRAL >>> 1\n",
      "148. label: CONTRADICTION - predicted: ENTAILMENT >>> 1\n",
      "149. label: ENTAILMENT - predicted: ENTAILMENT >>> 0\n"
     ]
    }
   ],
   "source": [
    "import os\n",
    "\n",
    "for model_id, model_name in MAP.items():\n",
    "    score_file = f\"{model_id}-model_scores.log\"\n",
    "    if os.path.isfile(score_file):\n",
    "        os.remove(score_file)\n",
    "    print(f\"> using model {model_id} :: {model_name}\")\n",
    "    for i, elem in enumerate(df.iter_rows(named=True)):\n",
    "        prediction = inference(model_name, elem['PREMISE'], elem['NEW HYPOTHESIS'])\n",
    "        predicted = max(prediction, key=prediction.get)\n",
    "        score = int(predicted != elem['LABEL'])\n",
    "        print(f\"{elem['ID']}. label: {elem['LABEL']} - predicted: {predicted} >>> {score}\")\n",
    "        with open(score_file, 'a+') as fout:\n",
    "            print(f\"{score}\",file=fout)"
   ]
  }
 ],
 "metadata": {
  "kernelspec": {
   "display_name": "nlp2024",
   "language": "python",
   "name": "python3"
  },
  "language_info": {
   "codemirror_mode": {
    "name": "ipython",
    "version": 3
   },
   "file_extension": ".py",
   "mimetype": "text/x-python",
   "name": "python",
   "nbconvert_exporter": "python",
   "pygments_lexer": "ipython3",
   "version": "3.9.19"
  }
 },
 "nbformat": 4,
 "nbformat_minor": 2
}
