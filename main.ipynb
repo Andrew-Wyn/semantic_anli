{
 "cells": [
  {
   "cell_type": "code",
   "execution_count": 1,
   "metadata": {},
   "outputs": [
    {
     "data": {
      "text/html": [
       "<div><style>\n",
       ".dataframe > thead > tr,\n",
       ".dataframe > tbody > tr {\n",
       "  text-align: right;\n",
       "  white-space: pre-wrap;\n",
       "}\n",
       "</style>\n",
       "<small>shape: (5, 7)</small><table border=\"1\" class=\"dataframe\"><thead><tr><th>cid</th><th>fid</th><th>premise</th><th>hypothesis</th><th>verifiable</th><th>fever_gold_label</th><th>label</th></tr><tr><td>i64</td><td>str</td><td>str</td><td>str</td><td>i64</td><td>str</td><td>i64</td></tr></thead><tbody><tr><td>157554</td><td>&quot;4f89bf1e-e4d7-491a-9f88-8227c2…</td><td>&quot;Danny Glover has yet to appear…</td><td>&quot;Danny Glover . He also has pro…</td><td>1</td><td>&quot;SUPPORTS&quot;</td><td>0</td></tr><tr><td>222589</td><td>&quot;ff0ad208-2b29-46db-9120-fc644a…</td><td>&quot;Same-sex marriage remains ille…</td><td>&quot;Same-sex marriage . , same-sex…</td><td>1</td><td>&quot;REFUTES&quot;</td><td>2</td></tr><tr><td>119844</td><td>&quot;06a4345f-e3d9-4c38-8ff2-4ff7cf…</td><td>&quot;The United Kingdom is the 21st…</td><td>&quot;The United Kingdom of Great Br…</td><td>1</td><td>&quot;REFUTES&quot;</td><td>2</td></tr><tr><td>38234</td><td>&quot;69079a37-7d57-4825-929f-ad9940…</td><td>&quot;Roger Penrose has received pri…</td><td>&quot;Roger Penrose . He has receive…</td><td>1</td><td>&quot;SUPPORTS&quot;</td><td>0</td></tr><tr><td>71600</td><td>&quot;d3864ece-3e01-4bc1-9b75-b107f2…</td><td>&quot;Star Wars: The Last Jedi is a …</td><td>&quot;Laura Dern . Her other film ro…</td><td>1</td><td>&quot;SUPPORTS&quot;</td><td>0</td></tr></tbody></table></div>"
      ],
      "text/plain": [
       "shape: (5, 7)\n",
       "┌────────┬─────────────────┬────────────────┬────────────────┬────────────┬────────────────┬───────┐\n",
       "│ cid    ┆ fid             ┆ premise        ┆ hypothesis     ┆ verifiable ┆ fever_gold_lab ┆ label │\n",
       "│ ---    ┆ ---             ┆ ---            ┆ ---            ┆ ---        ┆ el             ┆ ---   │\n",
       "│ i64    ┆ str             ┆ str            ┆ str            ┆ i64        ┆ ---            ┆ i64   │\n",
       "│        ┆                 ┆                ┆                ┆            ┆ str            ┆       │\n",
       "╞════════╪═════════════════╪════════════════╪════════════════╪════════════╪════════════════╪═══════╡\n",
       "│ 157554 ┆ 4f89bf1e-e4d7-4 ┆ Danny Glover   ┆ Danny Glover . ┆ 1          ┆ SUPPORTS       ┆ 0     │\n",
       "│        ┆ 91a-9f88-8227c2 ┆ has yet to     ┆ He also has    ┆            ┆                ┆       │\n",
       "│        ┆ …               ┆ appear…        ┆ pro…           ┆            ┆                ┆       │\n",
       "│ 222589 ┆ ff0ad208-2b29-4 ┆ Same-sex       ┆ Same-sex       ┆ 1          ┆ REFUTES        ┆ 2     │\n",
       "│        ┆ 6db-9120-fc644a ┆ marriage       ┆ marriage . ,   ┆            ┆                ┆       │\n",
       "│        ┆ …               ┆ remains ille…  ┆ same-sex…      ┆            ┆                ┆       │\n",
       "│ 119844 ┆ 06a4345f-e3d9-4 ┆ The United     ┆ The United     ┆ 1          ┆ REFUTES        ┆ 2     │\n",
       "│        ┆ c38-8ff2-4ff7cf ┆ Kingdom is the ┆ Kingdom of     ┆            ┆                ┆       │\n",
       "│        ┆ …               ┆ 21st…          ┆ Great Br…      ┆            ┆                ┆       │\n",
       "│ 38234  ┆ 69079a37-7d57-4 ┆ Roger Penrose  ┆ Roger Penrose  ┆ 1          ┆ SUPPORTS       ┆ 0     │\n",
       "│        ┆ 825-929f-ad9940 ┆ has received   ┆ . He has       ┆            ┆                ┆       │\n",
       "│        ┆ …               ┆ pri…           ┆ receive…       ┆            ┆                ┆       │\n",
       "│ 71600  ┆ d3864ece-3e01-4 ┆ Star Wars: The ┆ Laura Dern .   ┆ 1          ┆ SUPPORTS       ┆ 0     │\n",
       "│        ┆ bc1-9b75-b107f2 ┆ Last Jedi is a ┆ Her other film ┆            ┆                ┆       │\n",
       "│        ┆ …               ┆ …              ┆ ro…            ┆            ┆                ┆       │\n",
       "└────────┴─────────────────┴────────────────┴────────────────┴────────────┴────────────────┴───────┘"
      ]
     },
     "execution_count": 1,
     "metadata": {},
     "output_type": "execute_result"
    }
   ],
   "source": [
    "import polars as pl\n",
    "from pprint import pprint\n",
    "\n",
    "label_map = {0: 'entailment', 1: 'neutral', 2: 'contradiction'}\n",
    "\n",
    "train_df = pl.read_parquet('train-00000-of-00001.parquet')\n",
    "sampled = train_df.sample(n=50, seed=42)\n",
    "sampled.head()"
   ]
  },
  {
   "cell_type": "code",
   "execution_count": 2,
   "metadata": {},
   "outputs": [],
   "source": [
    "def get_prediction(claim:str):\n",
    "    return {'entailment' : 0.5, 'neutral' : 0.3, 'contradiction' : 0.2}"
   ]
  },
  {
   "cell_type": "code",
   "execution_count": 4,
   "metadata": {},
   "outputs": [
    {
     "name": "stdout",
     "output_type": "stream",
     "text": [
      "PREMISE\n",
      " Danny Glover . He also has prominent supporting roles in Silverado ( 1985 ) , Witness ( 1985 ) , Predator 2 ( 1990 ) , Saw ( 2004 ) , Shooter ( 2007 ) , 2012 ( 2009 ) , Death at a Funeral ( 2010 ) , Beyond the Lights ( 2014 ) , and Dirty Grandpa ( 2016 ) . Mumford is a 1999 American comedy-drama film written and directed by Lawrence Kasdan . Silverado is a 1985 American western film produced and directed by Lawrence Kasdan , written by Kasdan and his brother Mark .\n",
      "CLAIM:\n",
      " Danny Glover has yet to appear in a film written by Lawrence Kasdan and his brother Mark.\n",
      "GOLD LABEL: entailment\n",
      "------------------------------\n",
      "SAME PREDICTED LABEL: entailment -- {'entailment': 0.5, 'neutral': 0.3, 'contradiction': 0.2}\n",
      "SAME PREDICTED LABEL: entailment -- {'entailment': 0.5, 'neutral': 0.3, 'contradiction': 0.2}\n",
      "SAME PREDICTED LABEL: entailment -- {'entailment': 0.5, 'neutral': 0.3, 'contradiction': 0.2}\n",
      "SAME PREDICTED LABEL: entailment -- {'entailment': 0.5, 'neutral': 0.3, 'contradiction': 0.2}\n"
     ]
    }
   ],
   "source": [
    "for row in sampled.iter_rows(named=True):\n",
    "    print(\"PREMISE\\n\", row['hypothesis'])\n",
    "    print(\"CLAIM:\\n\", row['premise'])\n",
    "    print(\"GOLD LABEL:\", label_map[row[\"label\"]])\n",
    "    print(\"-\"*30)\n",
    "    while True:\n",
    "        claim = input(\"> write new claim: \")\n",
    "        prediction = get_prediction(claim)\n",
    "        predicted = max(prediction, key=prediction.get)\n",
    "        if predicted != label_map[row[\"label\"]]:\n",
    "            print(f\"PREDICTED LABEL CHANGED: {predicted} -- {prediction}\", flush=True)\n",
    "        else:\n",
    "            print(f\"SAME PREDICTED LABEL: {predicted} -- {prediction}\", flush=True)\n",
    "        flag = input(\"type n to exit, otherwise push enter to retry \")\n",
    "        if flag.lower() == 'n':\n",
    "            break\n",
    "    break"
   ]
  },
  {
   "cell_type": "code",
   "execution_count": null,
   "metadata": {},
   "outputs": [],
   "source": [
    "choosen_model = random.choice(list(models.keys()))\n",
    "print(f\"Choosen Model: {choosen_model}\")\n",
    "\n",
    "premise = input(\"Insert premise:\")\n",
    "hypothesis = input(\"Insert hypothesis:\")\n",
    "label = input(\"Insert gold label (entailment, neutral, contraddiction):\")\n",
    "\n",
    "while True:\n",
    "    model_input = tokenizers[choosen_model](premise, hypothesis, truncation=True, return_tensors=\"pt\")\n",
    "    output = models[choosen_model](model_input[\"input_ids\"].to(device))  # device = \"cuda:0\" or \"cpu\"\n",
    "    prediction = torch.softmax(output[\"logits\"][0], -1).tolist()\n",
    "    label_names = [\"entailment\", \"neutral\", \"contradiction\"]\n",
    "    prediction = {name: round(float(pred) * 100, 1) for pred, name in zip(prediction, label_names)}\n",
    "\n",
    "    print(f\"Gold label: {label}\")\n",
    "    print(f\"Predicted label: {max(prediction, key=prediction.get)}\")\n",
    "    print(f\"Predicted Percentage: {prediction}\")\n",
    "\n",
    "    c = input(\"continue? (Y|n)\")\n",
    "\n",
    "    if c ! = \"Y\":\n",
    "        break\n",
    "\n",
    "    hypothesis = input(\"Insert hypothesis:\")"
   ]
  }
 ],
 "metadata": {
  "kernelspec": {
   "display_name": "nlp2024",
   "language": "python",
   "name": "python3"
  },
  "language_info": {
   "codemirror_mode": {
    "name": "ipython",
    "version": 3
   },
   "file_extension": ".py",
   "mimetype": "text/x-python",
   "name": "python",
   "nbconvert_exporter": "python",
   "pygments_lexer": "ipython3",
   "version": "3.11.9"
  }
 },
 "nbformat": 4,
 "nbformat_minor": 2
}
