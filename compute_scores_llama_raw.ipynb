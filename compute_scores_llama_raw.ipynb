{
 "cells": [
  {
   "cell_type": "code",
   "execution_count": 1,
   "metadata": {},
   "outputs": [
    {
     "data": {
      "text/html": [
       "<div><style>\n",
       ".dataframe > thead > tr,\n",
       ".dataframe > tbody > tr {\n",
       "  text-align: right;\n",
       "  white-space: pre-wrap;\n",
       "}\n",
       "</style>\n",
       "<small>shape: (5, 13)</small><table border=\"1\" class=\"dataframe\"><thead><tr><th>cid</th><th>premise</th><th>hypothesis</th><th>label</th><th>Generated Entailment Hypothesis</th><th>Correct?</th><th>Adversarial?</th><th>Generated Neutral Hypothesis</th><th>Correct?_duplicated_0</th><th>Adversarial</th><th>Generated Contradiction Hypothesis</th><th>Correct?_duplicated_1</th><th>Adversarial_duplicated_0</th></tr><tr><td>i64</td><td>str</td><td>str</td><td>str</td><td>str</td><td>bool</td><td>bool</td><td>str</td><td>bool</td><td>bool</td><td>str</td><td>bool</td><td>bool</td></tr></thead><tbody><tr><td>184052</td><td>&quot;Gangs of New York . The screen…</td><td>&quot;Kenneth Lonergan is a writer o…</td><td>&quot;ENTAILMENT&quot;</td><td>&quot;Kenneth Lonergan wrote the scr…</td><td>false</td><td>false</td><td>&quot;Kenneth Lonergan&#x27;s birthdate i…</td><td>true</td><td>false</td><td>&quot;The screenplay of Gangs of New…</td><td>true</td><td>false</td></tr><tr><td>217178</td><td>&quot;Pakistan Movement . The Pakist…</td><td>&quot;The Pakistan Movement was the …</td><td>&quot;NEUTRAL&quot;</td><td>&quot; The Pakistan Movement was a s…</td><td>true</td><td>false</td><td>&quot;The Pakistan Movement was infl…</td><td>true</td><td>false</td><td>&quot;The Pakistan Movement was a mo…</td><td>true</td><td>false</td></tr><tr><td>169984</td><td>&quot;The Brat Pack is a nickname gi…</td><td>&quot;The Brat Pack is a nickname gi…</td><td>&quot;CONTRADICTION&quot;</td><td>&quot;The Brat Pack was a group of a…</td><td>true</td><td>false</td><td>&quot;The Brat Pack was a formal org…</td><td>false</td><td>false</td><td>&quot;The Brat Pack was a group of a…</td><td>true</td><td>false</td></tr><tr><td>120315</td><td>&quot;Bret Easton Ellis . Ellis also…</td><td>&quot;Bret Easton Ellis barely wrote…</td><td>&quot;CONTRADICTION&quot;</td><td>&quot;Bret Easton Ellis was involved…</td><td>true</td><td>false</td><td>&quot;The Canyons is a film that bel…</td><td>false</td><td>false</td><td>&quot;The screenplay for The Canyons…</td><td>true</td><td>false</td></tr><tr><td>145735</td><td>&quot;New York Knicks . The Knicks c…</td><td>&quot;The New York Knicks are in the…</td><td>&quot;ENTAILMENT&quot;</td><td>&quot;The New York Knicks are a team…</td><td>true</td><td>false</td><td>&quot;The New York Knicks have won a…</td><td>true</td><td>false</td><td>&quot;The New York Knicks are a team…</td><td>true</td><td>false</td></tr></tbody></table></div>"
      ],
      "text/plain": [
       "shape: (5, 13)\n",
       "┌────────┬────────────┬────────────┬───────────┬───┬───────────┬───────────┬───────────┬───────────┐\n",
       "│ cid    ┆ premise    ┆ hypothesis ┆ label     ┆ … ┆ Adversari ┆ Generated ┆ Correct?_ ┆ Adversari │\n",
       "│ ---    ┆ ---        ┆ ---        ┆ ---       ┆   ┆ al        ┆ Contradic ┆ duplicate ┆ al_duplic │\n",
       "│ i64    ┆ str        ┆ str        ┆ str       ┆   ┆ ---       ┆ tion      ┆ d_1       ┆ ated_0    │\n",
       "│        ┆            ┆            ┆           ┆   ┆ bool      ┆ Hypoth…   ┆ ---       ┆ ---       │\n",
       "│        ┆            ┆            ┆           ┆   ┆           ┆ ---       ┆ bool      ┆ bool      │\n",
       "│        ┆            ┆            ┆           ┆   ┆           ┆ str       ┆           ┆           │\n",
       "╞════════╪════════════╪════════════╪═══════════╪═══╪═══════════╪═══════════╪═══════════╪═══════════╡\n",
       "│ 184052 ┆ Gangs of   ┆ Kenneth    ┆ ENTAILMEN ┆ … ┆ false     ┆ The scree ┆ true      ┆ false     │\n",
       "│        ┆ New York . ┆ Lonergan   ┆ T         ┆   ┆           ┆ nplay of  ┆           ┆           │\n",
       "│        ┆ The        ┆ is a       ┆           ┆   ┆           ┆ Gangs of  ┆           ┆           │\n",
       "│        ┆ screen…    ┆ writer o…  ┆           ┆   ┆           ┆ New…      ┆           ┆           │\n",
       "│ 217178 ┆ Pakistan   ┆ The        ┆ NEUTRAL   ┆ … ┆ false     ┆ The       ┆ true      ┆ false     │\n",
       "│        ┆ Movement . ┆ Pakistan   ┆           ┆   ┆           ┆ Pakistan  ┆           ┆           │\n",
       "│        ┆ The        ┆ Movement   ┆           ┆   ┆           ┆ Movement  ┆           ┆           │\n",
       "│        ┆ Pakist…    ┆ was the …  ┆           ┆   ┆           ┆ was a mo… ┆           ┆           │\n",
       "│ 169984 ┆ The Brat   ┆ The Brat   ┆ CONTRADIC ┆ … ┆ false     ┆ The Brat  ┆ true      ┆ false     │\n",
       "│        ┆ Pack is a  ┆ Pack is a  ┆ TION      ┆   ┆           ┆ Pack was  ┆           ┆           │\n",
       "│        ┆ nickname   ┆ nickname   ┆           ┆   ┆           ┆ a group   ┆           ┆           │\n",
       "│        ┆ gi…        ┆ gi…        ┆           ┆   ┆           ┆ of a…     ┆           ┆           │\n",
       "│ 120315 ┆ Bret       ┆ Bret       ┆ CONTRADIC ┆ … ┆ false     ┆ The scree ┆ true      ┆ false     │\n",
       "│        ┆ Easton     ┆ Easton     ┆ TION      ┆   ┆           ┆ nplay for ┆           ┆           │\n",
       "│        ┆ Ellis .    ┆ Ellis      ┆           ┆   ┆           ┆ The       ┆           ┆           │\n",
       "│        ┆ Ellis      ┆ barely     ┆           ┆   ┆           ┆ Canyons…  ┆           ┆           │\n",
       "│        ┆ also…      ┆ wrote…     ┆           ┆   ┆           ┆           ┆           ┆           │\n",
       "│ 145735 ┆ New York   ┆ The New    ┆ ENTAILMEN ┆ … ┆ false     ┆ The New   ┆ true      ┆ false     │\n",
       "│        ┆ Knicks .   ┆ York       ┆ T         ┆   ┆           ┆ York      ┆           ┆           │\n",
       "│        ┆ The Knicks ┆ Knicks are ┆           ┆   ┆           ┆ Knicks    ┆           ┆           │\n",
       "│        ┆ c…         ┆ in the…    ┆           ┆   ┆           ┆ are a     ┆           ┆           │\n",
       "│        ┆            ┆            ┆           ┆   ┆           ┆ team…     ┆           ┆           │\n",
       "└────────┴────────────┴────────────┴───────────┴───┴───────────┴───────────┴───────────┴───────────┘"
      ]
     },
     "execution_count": 1,
     "metadata": {},
     "output_type": "execute_result"
    }
   ],
   "source": [
    "import polars as pl\n",
    "\n",
    "df = pl.read_csv(\"data/llama3_raw_03.06.2024.csv\")\n",
    "print(df.columns)"
   ]
  }
 ],
 "metadata": {
  "kernelspec": {
   "display_name": "nlp2024",
   "language": "python",
   "name": "python3"
  },
  "language_info": {
   "codemirror_mode": {
    "name": "ipython",
    "version": 3
   },
   "file_extension": ".py",
   "mimetype": "text/x-python",
   "name": "python",
   "nbconvert_exporter": "python",
   "pygments_lexer": "ipython3",
   "version": "3.11.9"
  }
 },
 "nbformat": 4,
 "nbformat_minor": 2
}
