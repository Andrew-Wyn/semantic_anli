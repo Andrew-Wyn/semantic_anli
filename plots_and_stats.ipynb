{
 "cells": [
  {
   "cell_type": "markdown",
   "metadata": {},
   "source": [
    "# Statistics\n",
    "- how many generated examples are correct for each category?\n",
    "- how many correct examples are can fool 0, 1, 2, 3 models?\n",
    "- can the hypotheses length be a discriminative factor?"
   ]
  },
  {
   "cell_type": "code",
   "execution_count": 5,
   "metadata": {},
   "outputs": [
    {
     "data": {
      "text/plain": [
       "46"
      ]
     },
     "execution_count": 5,
     "metadata": {},
     "output_type": "execute_result"
    }
   ],
   "source": [
    "import polars as pl\n",
    "from rich.console import Console\n",
    "from rich.table import Table\n",
    "console = Console()\n",
    "LABEL_NAMES = [\"ENTAILMENT\", \"NEUTRAL\", \"CONTRADICTION\"]\n",
    "output_name = \"data/gpt4o-03.04_and_single_class_prompt.csv\"\n",
    "new_df = pl.read_csv(output_name)\n",
    "new_df.height"
   ]
  },
  {
   "cell_type": "markdown",
   "metadata": {},
   "source": [
    "### How many synthetic hypotheses respect the targer label?"
   ]
  },
  {
   "cell_type": "code",
   "execution_count": 6,
   "metadata": {},
   "outputs": [
    {
     "data": {
      "text/html": [
       "<pre style=\"white-space:pre;overflow-x:auto;line-height:normal;font-family:Menlo,'DejaVu Sans Mono',consolas,'Courier New',monospace\"><span style=\"font-style: italic\">                  gpt4o-03.04_and_single_class_prompt.csv                  </span>\n",
       "┏━━━━━━━━━━━━━━━━━━━━━━━━━━━━━━━━━━━━━━━━━━━━━━━━━━━┳━━━━━━━━━━━━┳━━━━━━━━┓\n",
       "┃<span style=\"font-weight: bold\"> Category                                          </span>┃<span style=\"font-weight: bold\"> Percentage </span>┃<span style=\"font-weight: bold\"> Values </span>┃\n",
       "┡━━━━━━━━━━━━━━━━━━━━━━━━━━━━━━━━━━━━━━━━━━━━━━━━━━━╇━━━━━━━━━━━━╇━━━━━━━━┩\n",
       "│<span style=\"color: #008080; text-decoration-color: #008080\"> Synthetic ENTAILMENT    samples that are correct: </span>│<span style=\"color: #008000; text-decoration-color: #008000\">  100.00%   </span>│<span style=\"color: #800080; text-decoration-color: #800080\">  27/27 </span>│\n",
       "│<span style=\"color: #008080; text-decoration-color: #008080\"> Synthetic NEUTRAL       samples that are correct: </span>│<span style=\"color: #008000; text-decoration-color: #008000\">   96.15%   </span>│<span style=\"color: #800080; text-decoration-color: #800080\">  25/26 </span>│\n",
       "│<span style=\"color: #008080; text-decoration-color: #008080\"> Synthetic CONTRADICTION samples that are correct: </span>│<span style=\"color: #008000; text-decoration-color: #008000\">  100.00%   </span>│<span style=\"color: #800080; text-decoration-color: #800080\">  27/27 </span>│\n",
       "└───────────────────────────────────────────────────┴────────────┴────────┘\n",
       "</pre>\n"
      ],
      "text/plain": [
       "\u001b[3m                  gpt4o-03.04_and_single_class_prompt.csv                  \u001b[0m\n",
       "┏━━━━━━━━━━━━━━━━━━━━━━━━━━━━━━━━━━━━━━━━━━━━━━━━━━━┳━━━━━━━━━━━━┳━━━━━━━━┓\n",
       "┃\u001b[1m \u001b[0m\u001b[1mCategory                                         \u001b[0m\u001b[1m \u001b[0m┃\u001b[1m \u001b[0m\u001b[1mPercentage\u001b[0m\u001b[1m \u001b[0m┃\u001b[1m \u001b[0m\u001b[1mValues\u001b[0m\u001b[1m \u001b[0m┃\n",
       "┡━━━━━━━━━━━━━━━━━━━━━━━━━━━━━━━━━━━━━━━━━━━━━━━━━━━╇━━━━━━━━━━━━╇━━━━━━━━┩\n",
       "│\u001b[36m \u001b[0m\u001b[36mSynthetic ENTAILMENT    samples that are correct:\u001b[0m\u001b[36m \u001b[0m│\u001b[32m \u001b[0m\u001b[32m 100.00%  \u001b[0m\u001b[32m \u001b[0m│\u001b[35m \u001b[0m\u001b[35m 27/27\u001b[0m\u001b[35m \u001b[0m│\n",
       "│\u001b[36m \u001b[0m\u001b[36mSynthetic NEUTRAL       samples that are correct:\u001b[0m\u001b[36m \u001b[0m│\u001b[32m \u001b[0m\u001b[32m  96.15%  \u001b[0m\u001b[32m \u001b[0m│\u001b[35m \u001b[0m\u001b[35m 25/26\u001b[0m\u001b[35m \u001b[0m│\n",
       "│\u001b[36m \u001b[0m\u001b[36mSynthetic CONTRADICTION samples that are correct:\u001b[0m\u001b[36m \u001b[0m│\u001b[32m \u001b[0m\u001b[32m 100.00%  \u001b[0m\u001b[32m \u001b[0m│\u001b[35m \u001b[0m\u001b[35m 27/27\u001b[0m\u001b[35m \u001b[0m│\n",
       "└───────────────────────────────────────────────────┴────────────┴────────┘\n"
      ]
     },
     "metadata": {},
     "output_type": "display_data"
    }
   ],
   "source": [
    "table = Table(title=output_name.split('/')[-1])\n",
    "\n",
    "table.add_column(\"Category\", justify=\"left\", style=\"cyan\", no_wrap=True)\n",
    "table.add_column(\"Percentage\", style=\"green\", justify='center')\n",
    "table.add_column(\"Values\", justify=\"right\", style=\"magenta\")\n",
    "\n",
    "for label in LABEL_NAMES:\n",
    "    num_correct = new_df.filter(pl.col(f'{label} Correct?') == True).height\n",
    "    support = new_df.filter(pl.col(f'Generated {label} Hypothesis') != '')\n",
    "    table.add_row(\n",
    "        f\"Synthetic {label:<13} samples that are correct:\", \n",
    "        f\"{100*num_correct/support.height:.2f}%\", \n",
    "        f\"{num_correct}/{support.height}\") \n",
    "\n",
    "console.print(table)\n",
    "          "
   ]
  },
  {
   "cell_type": "markdown",
   "metadata": {},
   "source": [
    "### How many correct examples are can fool 0, 1, 2, 3 models?"
   ]
  },
  {
   "cell_type": "code",
   "execution_count": 7,
   "metadata": {},
   "outputs": [
    {
     "data": {
      "text/html": [
       "<pre style=\"white-space:pre;overflow-x:auto;line-height:normal;font-family:Menlo,'DejaVu Sans Mono',consolas,'Courier New',monospace\"><span style=\"font-style: italic\">                                      gpt4o-03.04_and_single_class_prompt.csv                                      </span>\n",
       "┏━━━━━━━━━━━━━┳━━━━━━━━━━━━━┳━━━━━━━━┳━━━━━━━━━━━━┳━━━━━━━━┳━━━━━━━━━━━━━┳━━━━━━━━┳━━━━━━━━━━━━┳━━━━━━━━┳━━━━━━━━━┓\n",
       "┃<span style=\"font-weight: bold\"> Category of </span>┃<span style=\"font-weight: bold\">             </span>┃<span style=\"font-weight: bold\">        </span>┃<span style=\"font-weight: bold\">            </span>┃<span style=\"font-weight: bold\">        </span>┃<span style=\"font-weight: bold\">             </span>┃<span style=\"font-weight: bold\">        </span>┃<span style=\"font-weight: bold\">            </span>┃<span style=\"font-weight: bold\">        </span>┃<span style=\"font-weight: bold\">         </span>┃\n",
       "┃<span style=\"font-weight: bold\"> correct     </span>┃<span style=\"font-weight: bold\">             </span>┃<span style=\"font-weight: bold\">        </span>┃<span style=\"font-weight: bold\">            </span>┃<span style=\"font-weight: bold\">        </span>┃<span style=\"font-weight: bold\">             </span>┃<span style=\"font-weight: bold\">        </span>┃<span style=\"font-weight: bold\">            </span>┃<span style=\"font-weight: bold\">        </span>┃<span style=\"font-weight: bold\">         </span>┃\n",
       "┃<span style=\"font-weight: bold\"> synthetic   </span>┃<span style=\"font-weight: bold\">   Fool 0    </span>┃<span style=\"font-weight: bold\">        </span>┃<span style=\"font-weight: bold\"> Fool &gt;= 1  </span>┃<span style=\"font-weight: bold\">        </span>┃<span style=\"font-weight: bold\">  Fool &gt;= 2  </span>┃<span style=\"font-weight: bold\">        </span>┃<span style=\"font-weight: bold\"> Fool &gt;= 3  </span>┃<span style=\"font-weight: bold\">        </span>┃<span style=\"font-weight: bold\">         </span>┃\n",
       "┃<span style=\"font-weight: bold\"> samples     </span>┃<span style=\"font-weight: bold\">   models    </span>┃<span style=\"font-weight: bold\">   %    </span>┃<span style=\"font-weight: bold\">   models   </span>┃<span style=\"font-weight: bold\">   %    </span>┃<span style=\"font-weight: bold\">   models    </span>┃<span style=\"font-weight: bold\">   %    </span>┃<span style=\"font-weight: bold\">   models   </span>┃<span style=\"font-weight: bold\">   %    </span>┃<span style=\"font-weight: bold\"> Support </span>┃\n",
       "┡━━━━━━━━━━━━━╇━━━━━━━━━━━━━╇━━━━━━━━╇━━━━━━━━━━━━╇━━━━━━━━╇━━━━━━━━━━━━━╇━━━━━━━━╇━━━━━━━━━━━━╇━━━━━━━━╇━━━━━━━━━┩\n",
       "│<span style=\"color: #008080; text-decoration-color: #008080\"> ENTAILMENT  </span>│<span style=\"color: #800000; text-decoration-color: #800000\">     19      </span>│<span style=\"color: #800000; text-decoration-color: #800000\"> 70.37% </span>│<span style=\"color: #008000; text-decoration-color: #008000\">      8     </span>│<span style=\"color: #008000; text-decoration-color: #008000\"> 29.63% </span>│<span style=\"color: #008000; text-decoration-color: #008000\">      8      </span>│<span style=\"color: #008000; text-decoration-color: #008000\"> 29.63% </span>│<span style=\"color: #008000; text-decoration-color: #008000\">      8     </span>│<span style=\"color: #008000; text-decoration-color: #008000\"> 29.63% </span>│<span style=\"color: #800080; text-decoration-color: #800080\">      27 </span>│\n",
       "│<span style=\"color: #008080; text-decoration-color: #008080\"> NEUTRAL     </span>│<span style=\"color: #800000; text-decoration-color: #800000\">     19      </span>│<span style=\"color: #800000; text-decoration-color: #800000\"> 76.00% </span>│<span style=\"color: #008000; text-decoration-color: #008000\">      6     </span>│<span style=\"color: #008000; text-decoration-color: #008000\"> 24.00% </span>│<span style=\"color: #008000; text-decoration-color: #008000\">      6      </span>│<span style=\"color: #008000; text-decoration-color: #008000\"> 24.00% </span>│<span style=\"color: #008000; text-decoration-color: #008000\">      6     </span>│<span style=\"color: #008000; text-decoration-color: #008000\"> 24.00% </span>│<span style=\"color: #800080; text-decoration-color: #800080\">      25 </span>│\n",
       "│<span style=\"color: #008080; text-decoration-color: #008080\"> CONTRADICT… </span>│<span style=\"color: #800000; text-decoration-color: #800000\">     19      </span>│<span style=\"color: #800000; text-decoration-color: #800000\"> 70.37% </span>│<span style=\"color: #008000; text-decoration-color: #008000\">      8     </span>│<span style=\"color: #008000; text-decoration-color: #008000\"> 29.63% </span>│<span style=\"color: #008000; text-decoration-color: #008000\">      7      </span>│<span style=\"color: #008000; text-decoration-color: #008000\"> 25.93% </span>│<span style=\"color: #008000; text-decoration-color: #008000\">      6     </span>│<span style=\"color: #008000; text-decoration-color: #008000\"> 22.22% </span>│<span style=\"color: #800080; text-decoration-color: #800080\">      27 </span>│\n",
       "└─────────────┴─────────────┴────────┴────────────┴────────┴─────────────┴────────┴────────────┴────────┴─────────┘\n",
       "</pre>\n"
      ],
      "text/plain": [
       "\u001b[3m                                      gpt4o-03.04_and_single_class_prompt.csv                                      \u001b[0m\n",
       "┏━━━━━━━━━━━━━┳━━━━━━━━━━━━━┳━━━━━━━━┳━━━━━━━━━━━━┳━━━━━━━━┳━━━━━━━━━━━━━┳━━━━━━━━┳━━━━━━━━━━━━┳━━━━━━━━┳━━━━━━━━━┓\n",
       "┃\u001b[1m \u001b[0m\u001b[1mCategory of\u001b[0m\u001b[1m \u001b[0m┃\u001b[1m             \u001b[0m┃\u001b[1m        \u001b[0m┃\u001b[1m            \u001b[0m┃\u001b[1m        \u001b[0m┃\u001b[1m             \u001b[0m┃\u001b[1m        \u001b[0m┃\u001b[1m            \u001b[0m┃\u001b[1m        \u001b[0m┃\u001b[1m         \u001b[0m┃\n",
       "┃\u001b[1m \u001b[0m\u001b[1mcorrect    \u001b[0m\u001b[1m \u001b[0m┃\u001b[1m             \u001b[0m┃\u001b[1m        \u001b[0m┃\u001b[1m            \u001b[0m┃\u001b[1m        \u001b[0m┃\u001b[1m             \u001b[0m┃\u001b[1m        \u001b[0m┃\u001b[1m            \u001b[0m┃\u001b[1m        \u001b[0m┃\u001b[1m         \u001b[0m┃\n",
       "┃\u001b[1m \u001b[0m\u001b[1msynthetic  \u001b[0m\u001b[1m \u001b[0m┃\u001b[1m \u001b[0m\u001b[1m  Fool 0   \u001b[0m\u001b[1m \u001b[0m┃\u001b[1m        \u001b[0m┃\u001b[1m \u001b[0m\u001b[1mFool >= 1 \u001b[0m\u001b[1m \u001b[0m┃\u001b[1m        \u001b[0m┃\u001b[1m \u001b[0m\u001b[1m Fool >= 2 \u001b[0m\u001b[1m \u001b[0m┃\u001b[1m        \u001b[0m┃\u001b[1m \u001b[0m\u001b[1mFool >= 3 \u001b[0m\u001b[1m \u001b[0m┃\u001b[1m        \u001b[0m┃\u001b[1m         \u001b[0m┃\n",
       "┃\u001b[1m \u001b[0m\u001b[1msamples    \u001b[0m\u001b[1m \u001b[0m┃\u001b[1m \u001b[0m\u001b[1m  models   \u001b[0m\u001b[1m \u001b[0m┃\u001b[1m \u001b[0m\u001b[1m  %   \u001b[0m\u001b[1m \u001b[0m┃\u001b[1m \u001b[0m\u001b[1m  models  \u001b[0m\u001b[1m \u001b[0m┃\u001b[1m \u001b[0m\u001b[1m  %   \u001b[0m\u001b[1m \u001b[0m┃\u001b[1m \u001b[0m\u001b[1m  models   \u001b[0m\u001b[1m \u001b[0m┃\u001b[1m \u001b[0m\u001b[1m  %   \u001b[0m\u001b[1m \u001b[0m┃\u001b[1m \u001b[0m\u001b[1m  models  \u001b[0m\u001b[1m \u001b[0m┃\u001b[1m \u001b[0m\u001b[1m  %   \u001b[0m\u001b[1m \u001b[0m┃\u001b[1m \u001b[0m\u001b[1mSupport\u001b[0m\u001b[1m \u001b[0m┃\n",
       "┡━━━━━━━━━━━━━╇━━━━━━━━━━━━━╇━━━━━━━━╇━━━━━━━━━━━━╇━━━━━━━━╇━━━━━━━━━━━━━╇━━━━━━━━╇━━━━━━━━━━━━╇━━━━━━━━╇━━━━━━━━━┩\n",
       "│\u001b[36m \u001b[0m\u001b[36mENTAILMENT \u001b[0m\u001b[36m \u001b[0m│\u001b[31m \u001b[0m\u001b[31m    19     \u001b[0m\u001b[31m \u001b[0m│\u001b[31m \u001b[0m\u001b[31m70.37%\u001b[0m\u001b[31m \u001b[0m│\u001b[32m \u001b[0m\u001b[32m     8    \u001b[0m\u001b[32m \u001b[0m│\u001b[32m \u001b[0m\u001b[32m29.63%\u001b[0m\u001b[32m \u001b[0m│\u001b[32m \u001b[0m\u001b[32m     8     \u001b[0m\u001b[32m \u001b[0m│\u001b[32m \u001b[0m\u001b[32m29.63%\u001b[0m\u001b[32m \u001b[0m│\u001b[32m \u001b[0m\u001b[32m     8    \u001b[0m\u001b[32m \u001b[0m│\u001b[32m \u001b[0m\u001b[32m29.63%\u001b[0m\u001b[32m \u001b[0m│\u001b[35m \u001b[0m\u001b[35m     27\u001b[0m\u001b[35m \u001b[0m│\n",
       "│\u001b[36m \u001b[0m\u001b[36mNEUTRAL    \u001b[0m\u001b[36m \u001b[0m│\u001b[31m \u001b[0m\u001b[31m    19     \u001b[0m\u001b[31m \u001b[0m│\u001b[31m \u001b[0m\u001b[31m76.00%\u001b[0m\u001b[31m \u001b[0m│\u001b[32m \u001b[0m\u001b[32m     6    \u001b[0m\u001b[32m \u001b[0m│\u001b[32m \u001b[0m\u001b[32m24.00%\u001b[0m\u001b[32m \u001b[0m│\u001b[32m \u001b[0m\u001b[32m     6     \u001b[0m\u001b[32m \u001b[0m│\u001b[32m \u001b[0m\u001b[32m24.00%\u001b[0m\u001b[32m \u001b[0m│\u001b[32m \u001b[0m\u001b[32m     6    \u001b[0m\u001b[32m \u001b[0m│\u001b[32m \u001b[0m\u001b[32m24.00%\u001b[0m\u001b[32m \u001b[0m│\u001b[35m \u001b[0m\u001b[35m     25\u001b[0m\u001b[35m \u001b[0m│\n",
       "│\u001b[36m \u001b[0m\u001b[36mCONTRADICT…\u001b[0m\u001b[36m \u001b[0m│\u001b[31m \u001b[0m\u001b[31m    19     \u001b[0m\u001b[31m \u001b[0m│\u001b[31m \u001b[0m\u001b[31m70.37%\u001b[0m\u001b[31m \u001b[0m│\u001b[32m \u001b[0m\u001b[32m     8    \u001b[0m\u001b[32m \u001b[0m│\u001b[32m \u001b[0m\u001b[32m29.63%\u001b[0m\u001b[32m \u001b[0m│\u001b[32m \u001b[0m\u001b[32m     7     \u001b[0m\u001b[32m \u001b[0m│\u001b[32m \u001b[0m\u001b[32m25.93%\u001b[0m\u001b[32m \u001b[0m│\u001b[32m \u001b[0m\u001b[32m     6    \u001b[0m\u001b[32m \u001b[0m│\u001b[32m \u001b[0m\u001b[32m22.22%\u001b[0m\u001b[32m \u001b[0m│\u001b[35m \u001b[0m\u001b[35m     27\u001b[0m\u001b[35m \u001b[0m│\n",
       "└─────────────┴─────────────┴────────┴────────────┴────────┴─────────────┴────────┴────────────┴────────┴─────────┘\n"
      ]
     },
     "metadata": {},
     "output_type": "display_data"
    }
   ],
   "source": [
    "table = Table(title=output_name.split('/')[-1])\n",
    "\n",
    "table.add_column(\"Category of correct synthetic samples\", justify=\"left\", style=\"cyan\", no_wrap=False)\n",
    "table.add_column(\"Fool 0 models\", style=\"red\", justify='center')\n",
    "table.add_column(\"%\", style=\"red\", justify='center')\n",
    "table.add_column(\"Fool >= 1 models\", style=\"green\", justify='center')\n",
    "table.add_column(\"%\", style=\"green\", justify='center')\n",
    "table.add_column(\"Fool >= 2 models\", style=\"green\", justify='center')\n",
    "table.add_column(\"%\", style=\"green\", justify='center')\n",
    "table.add_column(\"Fool >= 3 models\", style=\"green\", justify='center')\n",
    "table.add_column(\"%\", style=\"green\", justify='center')\n",
    "table.add_column(\"Support\", justify=\"right\", style=\"magenta\")\n",
    "\n",
    "for label in LABEL_NAMES:\n",
    "    # retrieve correct samples per label\n",
    "    correct_df = new_df.filter(pl.col(f'{label} Correct?') == True)\n",
    "    num_correct = correct_df.height\n",
    "\n",
    "    fool_0 = correct_df.filter(pl.col(f\"{label} difficulty score\") == 0).height\n",
    "    fool_at_least_1 = correct_df.filter(pl.col(f\"{label} difficulty score\") >= 1).height\n",
    "    fool_at_least_2 = correct_df.filter(pl.col(f\"{label} difficulty score\") >= 2).height\n",
    "    fool_at_least_3 = correct_df.filter(pl.col(f\"{label} difficulty score\") >= 3).height\n",
    "\n",
    "    table.add_row(\n",
    "        label, \n",
    "        f\"{fool_0:>2}\",\n",
    "        f\"{100*fool_0/num_correct:.2f}%\", \n",
    "        f\"{fool_at_least_1:>2}\",\n",
    "        f\"{100*fool_at_least_1/num_correct:.2f}%\", \n",
    "        f\"{fool_at_least_2:>2}\",\n",
    "        f\"{100*fool_at_least_2/num_correct:.2f}%\", \n",
    "        f\"{fool_at_least_3:>2}\",\n",
    "        f\"{100*fool_at_least_3/num_correct:.2f}%\", \n",
    "        f\"{num_correct}\"\n",
    ") \n",
    "\n",
    "console.print(table)"
   ]
  },
  {
   "cell_type": "markdown",
   "metadata": {},
   "source": [
    "### Export a csv containing only adversarial samples"
   ]
  },
  {
   "cell_type": "code",
   "execution_count": 11,
   "metadata": {},
   "outputs": [],
   "source": [
    "to_df = {\n",
    "    \"cid\" : [],\n",
    "    \"premise\": [],\n",
    "    \"original hypothesis\": [],\n",
    "    \"original label\": [],\n",
    "    \"generated hypothesis\": [],\n",
    "    \"prompted label\": [],\n",
    "    \"models fooled\": [],\n",
    "}\n",
    "\n",
    "for label in LABEL_NAMES:\n",
    "    # retrieve correct samples per label\n",
    "    correct_df = new_df.filter(pl.col(f'{label} Correct?') == True)\n",
    "    num_correct = correct_df.height\n",
    "\n",
    "    adversarial_samples = correct_df.filter(pl.col(f\"{label} difficulty score\") >= 1)\n",
    "    for row in adversarial_samples.iter_rows(named=True):\n",
    "        to_df['cid'].append(row['cid'])\n",
    "        to_df['premise'].append(row['premise'])\n",
    "        to_df[\"original hypothesis\"].append(row['hypothesis'])\n",
    "        to_df[\"original label\"].append(row['label'])\n",
    "        to_df[\"generated hypothesis\"].append(row[f'Generated {label} Hypothesis'])\n",
    "        to_df[\"prompted label\"].append(label)\n",
    "        to_df[\"models fooled\"].append(row[f'{label} difficulty score'])\n",
    "        \n",
    "to_df = pl.DataFrame(to_df).write_csv(output_name.replace('.csv', 'ADV_SAMPLES.csv'))"
   ]
  },
  {
   "cell_type": "markdown",
   "metadata": {},
   "source": [
    "### Stats on the token lenghts between original and correct generated hypothesis"
   ]
  },
  {
   "cell_type": "code",
   "execution_count": 12,
   "metadata": {},
   "outputs": [
    {
     "name": "stdout",
     "output_type": "stream",
     "text": [
      "> original hypotheses mean length: 8.10\n",
      "> generated hypotheses mean length: 20.02\t(2.47x original)\n"
     ]
    }
   ],
   "source": [
    "from numpy import mean\n",
    "\n",
    "original_hypotheses_len = [] \n",
    "generated_hypotheses_len = [] \n",
    "adv_generated_hypothesis_len = {0:[], 1:[], 2:[], 3:[]}\n",
    "\n",
    "for label in LABEL_NAMES:\n",
    "    samples = new_df.filter(\n",
    "        (pl.col(f'{label} Correct?') == True) & (pl.col(f'Generated {label} Hypothesis') != '')\n",
    "    )\n",
    "    for row in samples.iter_rows(named=True):\n",
    "        original_hypotheses_len.append(len(row['hypothesis'].strip().split(' ')))\n",
    "        diff_score = row[f'{label} difficulty score']     \n",
    "        adv_generated_hypothesis_len[diff_score].append(len(row[f'Generated {label} Hypothesis'].strip().split(' ')))\n",
    "\n",
    "print(f\"> original hypotheses mean length: {mean(original_hypotheses_len):.2f}\")\n",
    "\n",
    "for k in range(0,3):\n",
    "    for i in adv_generated_hypothesis_len[k]:\n",
    "        generated_hypotheses_len.append(i)\n",
    "\n",
    "print(f\"> generated hypotheses mean length: {mean(generated_hypotheses_len):.2f}\\t({mean(generated_hypotheses_len)/mean(original_hypotheses_len):.2f}x original)\")"
   ]
  },
  {
   "cell_type": "code",
   "execution_count": 56,
   "metadata": {},
   "outputs": [],
   "source": [
    "import numpy as np\n",
    "import matplotlib.pyplot as plt \n",
    "\n",
    "label2color={\n",
    "    'ENTAILMENT':   'tab:green',\n",
    "    'NEUTRAL':      'tab:blue',\n",
    "    'CONTRADICTION':'tab:red'\n",
    "    }\n",
    "\n",
    "def grouped_bar_plot(species, means, label2color, ylabel='', title=''):\n",
    "    x = np.arange(len(species))  # the label locations\n",
    "    width = 0.25  # the width of the bars\n",
    "    multiplier = 0\n",
    "\n",
    "    fig, ax = plt.subplots(layout='constrained')\n",
    "\n",
    "    for attribute, measurement in means.items():\n",
    "        offset = width * multiplier\n",
    "        rects = ax.bar(x + offset, measurement, width, label=attribute, edgecolor='black', color=label2color[attribute.upper()])\n",
    "        ax.bar_label(rects, padding=3, fmt=f'%.1f')\n",
    "        multiplier += 1\n",
    "\n",
    "    # Add some text for labels, title and custom x-axis tick labels, etc.\n",
    "    ax.set_ylabel(ylabel)\n",
    "    ax.set_title(title)\n",
    "    ax.set_xticks(x + width, species)\n",
    "    ax.legend(loc='upper left', ncols=1)"
   ]
  },
  {
   "cell_type": "code",
   "execution_count": 62,
   "metadata": {},
   "outputs": [
    {
     "name": "stdout",
     "output_type": "stream",
     "text": [
      "Support:\n",
      "\t original  - ENTAILMENT     15\n",
      "\t original  - NEUTRAL        11\n",
      "\t original  - CONTRADICTION  20\n",
      "\t synthetic - ENTAILMENT     27\n",
      "\t synthetic - NEUTRAL        25\n",
      "\t synthetic - CONTRADICTION  27\n"
     ]
    },
    {
     "data": {
      "image/png": "[encoded data removed]",
      "text/plain": [
       "<Figure size 640x480 with 1 Axes>"
      ]
     },
     "metadata": {},
     "output_type": "display_data"
    }
   ],
   "source": [
    "original_h = {}\n",
    "for label in LABEL_NAMES:\n",
    "    if label not in original_h.keys():\n",
    "        original_h[label] = []\n",
    "    samples = new_df.filter((pl.col('label') == label))\n",
    "    for row in samples.iter_rows(named=True):\n",
    "        original_h[label].append(len(row['hypothesis'].strip().split(' ')))\n",
    "\n",
    "synthetic_h = {}\n",
    "for label in LABEL_NAMES:\n",
    "    if label not in synthetic_h.keys():\n",
    "        synthetic_h[label] = []\n",
    "    \n",
    "    samples = new_df.filter(\n",
    "        (pl.col(f'{label} Correct?') == True) & (pl.col(f'Generated {label} Hypothesis') != '')\n",
    "    )\n",
    "    for row in samples.iter_rows(named=True):\n",
    "        diff_score = row[f'{label} difficulty score']     \n",
    "        synthetic_h[label].append(len(row[f'Generated {label} Hypothesis'].strip().split(' ')))\n",
    "\n",
    "\n",
    "species = (\n",
    "    'original',\n",
    "    'synthetic'\n",
    ")\n",
    "\n",
    "means = {\n",
    "    'Entailment' : [\n",
    "        mean(original_h['ENTAILMENT']), \n",
    "        mean(synthetic_h['ENTAILMENT'])\n",
    "        ],\n",
    "    'Neutral' : [\n",
    "        mean(original_h['NEUTRAL']),\n",
    "        mean(synthetic_h['NEUTRAL'])\n",
    "        ],\n",
    "    'Contradiction' : [\n",
    "        mean(original_h['CONTRADICTION']),\n",
    "        mean(synthetic_h['CONTRADICTION'])]\n",
    "    }\n",
    "\n",
    "grouped_bar_plot(\n",
    "    species, \n",
    "    means, \n",
    "    label2color, \n",
    "    ylabel='Length (# tokens)', \n",
    "    title='Average length of original and synthetic hypotheses'\n",
    ")\n",
    "print(\"Support:\")\n",
    "print(\"\\t original  - ENTAILMENT    \", len(original_h['ENTAILMENT']))\n",
    "print(\"\\t original  - NEUTRAL       \", len(original_h['NEUTRAL']))\n",
    "print(\"\\t original  - CONTRADICTION \", len(original_h['CONTRADICTION']))\n",
    "print(\"\\t synthetic - ENTAILMENT    \", len(synthetic_h['ENTAILMENT']))\n",
    "print(\"\\t synthetic - NEUTRAL       \", len(synthetic_h['NEUTRAL']))\n",
    "print(\"\\t synthetic - CONTRADICTION \", len(synthetic_h['CONTRADICTION']))"
   ]
  },
  {
   "cell_type": "code",
   "execution_count": 63,
   "metadata": {},
   "outputs": [
    {
     "name": "stdout",
     "output_type": "stream",
     "text": [
      "Support:\n",
      "\t fools 0 - ENTAILMENT     19\n",
      "\t fools 0 - NEUTRAL        19\n",
      "\t fools 0 - CONTRADICTION  19\n",
      "\t -------\n",
      "\t fools 1 - ENTAILMENT     0\n",
      "\t fools 1 - NEUTRAL        0\n",
      "\t fools 1 - CONTRADICTION  1\n",
      "\t -------\n",
      "\t fools 2 - ENTAILMENT     0\n",
      "\t fools 2 - NEUTRAL        0\n",
      "\t fools 2 - CONTRADICTION  1\n",
      "\t -------\n",
      "\t fools 3 - ENTAILMENT     8\n",
      "\t fools 3 - NEUTRAL        6\n",
      "\t fools 3 - CONTRADICTION  6\n"
     ]
    },
    {
     "data": {
      "image/png": "[encoded data removed]",
      "text/plain": [
       "<Figure size 640x480 with 1 Axes>"
      ]
     },
     "metadata": {},
     "output_type": "display_data"
    }
   ],
   "source": [
    "synthetic_h = {}\n",
    "for label in LABEL_NAMES:\n",
    "    if label not in synthetic_h.keys():\n",
    "        synthetic_h[label] = {\n",
    "            0: [], 1: [], 2: [], 3:[],\n",
    "        }\n",
    "    \n",
    "    samples = new_df.filter(\n",
    "        (pl.col(f'{label} Correct?') == True) & (pl.col(f'Generated {label} Hypothesis') != '')\n",
    "    )\n",
    "    for row in samples.iter_rows(named=True):\n",
    "        diff_score = row[f'{label} difficulty score']     \n",
    "        synthetic_h[label][diff_score].append(len(row[f'Generated {label} Hypothesis'].strip().split(' ')))\n",
    "\n",
    "\n",
    "grouping = (\n",
    "    'fools 0',\n",
    "    'fools 1',\n",
    "    'fools 2',\n",
    "    'fools 3',\n",
    ")\n",
    "\n",
    "data_to_plot = {\n",
    "    'Entailment' : (\n",
    "        mean(synthetic_h['ENTAILMENT'][0]) if len(synthetic_h['ENTAILMENT'][0]) > 0 else 0,\n",
    "        mean(synthetic_h['ENTAILMENT'][1]) if len(synthetic_h['ENTAILMENT'][1]) > 0 else 0,\n",
    "        mean(synthetic_h['ENTAILMENT'][2]) if len(synthetic_h['ENTAILMENT'][2]) > 0 else 0,\n",
    "        mean(synthetic_h['ENTAILMENT'][3]) if len(synthetic_h['ENTAILMENT'][3]) > 0 else 0,\n",
    "    ),\n",
    "    'Neutral' : (\n",
    "        mean(synthetic_h['NEUTRAL'][0]) if len(synthetic_h['NEUTRAL'][0]) > 0 else 0,\n",
    "        mean(synthetic_h['NEUTRAL'][1]) if len(synthetic_h['NEUTRAL'][1]) > 0 else 0,\n",
    "        mean(synthetic_h['NEUTRAL'][2]) if len(synthetic_h['NEUTRAL'][2]) > 0 else 0,\n",
    "        mean(synthetic_h['NEUTRAL'][3]) if len(synthetic_h['NEUTRAL'][3]) > 0 else 0,\n",
    "    ),\n",
    "    'Contradiction' : (\n",
    "        mean(synthetic_h['CONTRADICTION'][0]) if len(synthetic_h['CONTRADICTION'][0]) > 0 else 0,\n",
    "        mean(synthetic_h['CONTRADICTION'][1]) if len(synthetic_h['CONTRADICTION'][1]) > 0 else 0,\n",
    "        mean(synthetic_h['CONTRADICTION'][2]) if len(synthetic_h['CONTRADICTION'][2]) > 0 else 0,\n",
    "        mean(synthetic_h['CONTRADICTION'][3]) if len(synthetic_h['CONTRADICTION'][3]) > 0 else 0,\n",
    "    )\n",
    "    }\n",
    "\n",
    "grouped_bar_plot(\n",
    "    grouping,\n",
    "    data_to_plot,\n",
    "    label2color,\n",
    "    ylabel='Length (# tokens)',\n",
    "    title='Average length of synthetic hypotheses per difficulty score'\n",
    ")\n",
    "print(\"Support:\")\n",
    "print(\"\\t fools 0 - ENTAILMENT    \", len(synthetic_h['ENTAILMENT'][0]))\n",
    "print(\"\\t fools 0 - NEUTRAL       \", len(synthetic_h['NEUTRAL'][0]))\n",
    "print(\"\\t fools 0 - CONTRADICTION \", len(synthetic_h['CONTRADICTION'][0]))\n",
    "print(\"\\t -------\")\n",
    "print(\"\\t fools 1 - ENTAILMENT    \", len(synthetic_h['ENTAILMENT'][1]))\n",
    "print(\"\\t fools 1 - NEUTRAL       \", len(synthetic_h['NEUTRAL'][1]))\n",
    "print(\"\\t fools 1 - CONTRADICTION \", len(synthetic_h['CONTRADICTION'][1]))\n",
    "print(\"\\t -------\")\n",
    "print(\"\\t fools 2 - ENTAILMENT    \", len(synthetic_h['ENTAILMENT'][2]))\n",
    "print(\"\\t fools 2 - NEUTRAL       \", len(synthetic_h['NEUTRAL'][2]))\n",
    "print(\"\\t fools 2 - CONTRADICTION \", len(synthetic_h['CONTRADICTION'][2]))\n",
    "print(\"\\t -------\")\n",
    "print(\"\\t fools 3 - ENTAILMENT    \", len(synthetic_h['ENTAILMENT'][3]))\n",
    "print(\"\\t fools 3 - NEUTRAL       \", len(synthetic_h['NEUTRAL'][3]))\n",
    "print(\"\\t fools 3 - CONTRADICTION \", len(synthetic_h['CONTRADICTION'][3]))"
   ]
  }
 ],
 "metadata": {
  "kernelspec": {
   "display_name": "nlp2024",
   "language": "python",
   "name": "python3"
  },
  "language_info": {
   "codemirror_mode": {
    "name": "ipython",
    "version": 3
   },
   "file_extension": ".py",
   "mimetype": "text/x-python",
   "name": "python",
   "nbconvert_exporter": "python",
   "pygments_lexer": "ipython3",
   "version": "3.9.19"
  }
 },
 "nbformat": 4,
 "nbformat_minor": 2
}
