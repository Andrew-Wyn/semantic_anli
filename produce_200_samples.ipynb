{
 "cells": [
  {
   "cell_type": "code",
   "execution_count": 1,
   "metadata": {},
   "outputs": [
    {
     "data": {
      "text/html": [
       "<div><style>\n",
       ".dataframe > thead > tr,\n",
       ".dataframe > tbody > tr {\n",
       "  text-align: right;\n",
       "  white-space: pre-wrap;\n",
       "}\n",
       "</style>\n",
       "<small>shape: (5, 9)</small><table border=\"1\" class=\"dataframe\"><thead><tr><th>id</th><th>cid</th><th>premise</th><th>hypothesis</th><th>alternative hypothesis</th><th>label</th><th>new hypothesis</th><th>new label</th><th>change type</th></tr><tr><td>i64</td><td>i64</td><td>str</td><td>str</td><td>str</td><td>str</td><td>str</td><td>str</td><td>str</td></tr></thead><tbody><tr><td>0</td><td>58846</td><td>&quot;Johnny Galecki . He is known f…</td><td>&quot;Johnny Galecki has been in at …</td><td>&quot;&quot;</td><td>&quot;NEUTRAL&quot;</td><td>&quot;&quot;</td><td>&quot;&quot;</td><td>&quot;&quot;</td></tr><tr><td>1</td><td>172460</td><td>&quot;Matteo Renzi ( [ matˈtɛːo ˈrɛn…</td><td>&quot;Matteo Renzi served as Prime M…</td><td>&quot;&quot;</td><td>&quot;ENTAILMENT&quot;</td><td>&quot;&quot;</td><td>&quot;&quot;</td><td>&quot;&quot;</td></tr><tr><td>2</td><td>181201</td><td>&quot;Southpaw is a 2015 American sp…</td><td>&quot;Southpaw was released 2011.&quot;</td><td>&quot;&quot;</td><td>&quot;CONTRADICTION&quot;</td><td>&quot;&quot;</td><td>&quot;&quot;</td><td>&quot;&quot;</td></tr><tr><td>3</td><td>174024</td><td>&quot;Pink Floyd . The final Pink Fl…</td><td>&quot;The Endless River is Pink Floy…</td><td>&quot;&quot;</td><td>&quot;CONTRADICTION&quot;</td><td>&quot;&quot;</td><td>&quot;&quot;</td><td>&quot;&quot;</td></tr><tr><td>4</td><td>118068</td><td>&quot;Beatles Day . This day is cons…</td><td>&quot;Liverpool is unrelated to The …</td><td>&quot;&quot;</td><td>&quot;CONTRADICTION&quot;</td><td>&quot;&quot;</td><td>&quot;&quot;</td><td>&quot;&quot;</td></tr></tbody></table></div>"
      ],
      "text/plain": [
       "shape: (5, 9)\n",
       "┌─────┬────────┬──────────────┬──────────────┬───┬──────────────┬─────────────┬───────────┬────────┐\n",
       "│ id  ┆ cid    ┆ premise      ┆ hypothesis   ┆ … ┆ label        ┆ new         ┆ new label ┆ change │\n",
       "│ --- ┆ ---    ┆ ---          ┆ ---          ┆   ┆ ---          ┆ hypothesis  ┆ ---       ┆ type   │\n",
       "│ i64 ┆ i64    ┆ str          ┆ str          ┆   ┆ str          ┆ ---         ┆ str       ┆ ---    │\n",
       "│     ┆        ┆              ┆              ┆   ┆              ┆ str         ┆           ┆ str    │\n",
       "╞═════╪════════╪══════════════╪══════════════╪═══╪══════════════╪═════════════╪═══════════╪════════╡\n",
       "│ 0   ┆ 58846  ┆ Johnny       ┆ Johnny       ┆ … ┆ NEUTRAL      ┆             ┆           ┆        │\n",
       "│     ┆        ┆ Galecki . He ┆ Galecki has  ┆   ┆              ┆             ┆           ┆        │\n",
       "│     ┆        ┆ is known f…  ┆ been in at … ┆   ┆              ┆             ┆           ┆        │\n",
       "│ 1   ┆ 172460 ┆ Matteo Renzi ┆ Matteo Renzi ┆ … ┆ ENTAILMENT   ┆             ┆           ┆        │\n",
       "│     ┆        ┆ ( [ matˈtɛːo ┆ served as    ┆   ┆              ┆             ┆           ┆        │\n",
       "│     ┆        ┆ ˈrɛn…        ┆ Prime M…     ┆   ┆              ┆             ┆           ┆        │\n",
       "│ 2   ┆ 181201 ┆ Southpaw is  ┆ Southpaw was ┆ … ┆ CONTRADICTIO ┆             ┆           ┆        │\n",
       "│     ┆        ┆ a 2015       ┆ released     ┆   ┆ N            ┆             ┆           ┆        │\n",
       "│     ┆        ┆ American sp… ┆ 2011.        ┆   ┆              ┆             ┆           ┆        │\n",
       "│ 3   ┆ 174024 ┆ Pink Floyd . ┆ The Endless  ┆ … ┆ CONTRADICTIO ┆             ┆           ┆        │\n",
       "│     ┆        ┆ The final    ┆ River is     ┆   ┆ N            ┆             ┆           ┆        │\n",
       "│     ┆        ┆ Pink Fl…     ┆ Pink Floy…   ┆   ┆              ┆             ┆           ┆        │\n",
       "│ 4   ┆ 118068 ┆ Beatles Day  ┆ Liverpool is ┆ … ┆ CONTRADICTIO ┆             ┆           ┆        │\n",
       "│     ┆        ┆ . This day   ┆ unrelated to ┆   ┆ N            ┆             ┆           ┆        │\n",
       "│     ┆        ┆ is cons…     ┆ The …        ┆   ┆              ┆             ┆           ┆        │\n",
       "└─────┴────────┴──────────────┴──────────────┴───┴──────────────┴─────────────┴───────────┴────────┘"
      ]
     },
     "execution_count": 1,
     "metadata": {},
     "output_type": "execute_result"
    }
   ],
   "source": [
    "import polars as pl\n",
    "\n",
    "df = pl.read_csv(\"fever_test.filtered.sampled.csv\")\n",
    "df.head()"
   ]
  },
  {
   "cell_type": "code",
   "execution_count": 31,
   "metadata": {},
   "outputs": [
    {
     "name": "stdout",
     "output_type": "stream",
     "text": [
      "['Johnny Galecki has been in at least two French sitcoms.'\n",
      " 'Matteo Renzi served as Prime Minister of Italy.'\n",
      " 'Southpaw was released 2011.'\n",
      " \"The Endless River is Pink Floyd's first studio album.\"\n",
      " 'Liverpool is unrelated to The Beatles.'\n",
      " \"Elizabeth of York wouldn't marry the king.\"\n",
      " 'Roberto Orci worked with others.'\n",
      " 'Yemen is not the second-largest country in the Arabian peninsula.'\n",
      " 'Military deception only overlaps with psychological peace.'\n",
      " 'Kenneth Lonergan is a Catholic.'\n",
      " \"DJ Quik's dog's name is David Marvin Bark.\" 'Moesia included a monarch.'\n",
      " 'Michigan is the least populous of the 50 United States.'\n",
      " 'Jiang Wen is a film series.'\n",
      " 'Edmund H. North was born in New York on March 12, 1911.'\n",
      " 'Magic Johnson played basketball.' 'GLOW has one episode.'\n",
      " 'Younger premiered in 2015.' 'Trollhunters was created by a horse.'\n",
      " 'Fiji Hindi has been subject to impact by Magahi and other Bihari languages.'\n",
      " 'Foot Locker is a exclusively Vietnamese retailer.'\n",
      " 'A Golden Globe was won by Byron Howard for Zootopia.'\n",
      " 'Mom (TV series) has been nominated at an award show.'\n",
      " 'Lyon had a population of over 500,000 in 2014.'\n",
      " 'SpongeBob SquarePants is a series.'\n",
      " 'There is a show called The Office (US).'\n",
      " 'Yemen is the fourth-largest country in the Arabian peninsula.'\n",
      " 'Villa Park hosted the President of Turkey during her 2012 visit to England.'\n",
      " 'Polar bears are classified as marine reptiles.'\n",
      " 'The Challenge XXX: Dirty 30 is a season of an American TV show.'\n",
      " \"Keegan-Michael Key played President Barack Obama's daughter.\"\n",
      " 'Aleister Crowley died on October 12, 1874.'\n",
      " 'Michaela Watkins was born in December.'\n",
      " 'The Sterile Cuckoo was directed by a Catholic.'\n",
      " 'The Chagatai language was spoken in Asia.'\n",
      " 'Excuse My French is only a single by an American rapper.'\n",
      " 'Ed Decter is a soldier.' 'Seohyun is a dog.'\n",
      " 'French Indochina was only in Northeast Asia.'\n",
      " 'Quay premiered at a Mexican film festival.'\n",
      " 'Gray Matters was released in 2006.'\n",
      " 'Donna Noble travels with the Doctor.' 'The Baltic Sea borders Estonia.'\n",
      " 'Billie Joe Armstrong is a vocalist of the American rock band Green Day.'\n",
      " 'Chile is in the northern hemisphere.'\n",
      " 'Fargo (season 3) aired on a Chinese basic cable network.'\n",
      " 'Excuse My French is an album by an American surgeon.'\n",
      " 'Folklore includes proverbs.'\n",
      " 'Victoria (Dance Exponents song) was released in New Zealand in winter of 1982.'\n",
      " \"Formula One's Red Bull Racing races under an Austrian license.\"\n",
      " 'Appropriation (art) played a significant role in musical arts.'\n",
      " 'Duane Chapman is a current bail bondsman.'\n",
      " 'Kesha is a singer, songwriter and rapper who lives in California.'\n",
      " 'Janelle Monáe is a ventriloquist.' 'Chris Eubank Jr. was born.'\n",
      " 'Scaramouche is a character in theater.'\n",
      " 'The British did not establish administrative law in Uganda.'\n",
      " 'Warcraft premiered in 3D in June 2016.'\n",
      " 'Aristotle never went to the Academy.' 'Scream 2 is a romantic film.'\n",
      " 'Robert Palmer (writer) has produced poems.'\n",
      " 'Garden State was chosen in an official manner.'\n",
      " 'Quay premiered in 2001.' 'Pink is an actress.'\n",
      " 'In the End was the only song released in 2000.'\n",
      " 'The Woman in Black was produced by Hammer Film Productions in 2012.'\n",
      " 'Miranda Otto began her acting career at age 18.'\n",
      " 'Tylenol is promoted for relieving the symptoms of allergies.'\n",
      " 'Ice-T refused to ever make hip-hop music.'\n",
      " 'Buffy Summers dies in a film.'\n",
      " 'The website Glee.com was first launched in 2010.'\n",
      " 'Damon Albarn married Brian Eno.' 'Rick Yune was on an HBO show.'\n",
      " 'Ragtime was released in 1965.' 'Sancho Panza is a character in Estonia.'\n",
      " 'Yandex functions in Turkey.'\n",
      " 'Michaela Watkins died on December 14, 1971.'\n",
      " 'The Fame is the seventh best-selling studio album.'\n",
      " 'The Fly is a film from the United States.'\n",
      " 'First Motion Picture Unit produced more than 400 American films.'\n",
      " 'In some cultures, money is given away instead of candy when Trick-or-Treating.'\n",
      " 'B. R. Ambedkar was not in The Sound of Music.'\n",
      " 'John Deighton worked in Maine.'\n",
      " \"Jack Dylan Grazer's parents are Princess Oriana and Fox Mulder.\"\n",
      " 'Dawood Ibrahim is a person.' 'Jimi Hendrix was an amateur parachutist.'\n",
      " 'Team Fortress 2 is incapable of being a video game.'\n",
      " 'Bonaire is one of the three BES islands in the Caribbean as of 2005.'\n",
      " 'American Idol (season 8) had Simon Cowell as a judge for the eighth year in a row.'\n",
      " 'Matthew Vaughn is vegan.' 'Brian De Palma was born in January 1940.'\n",
      " 'Tiber Oil Field was discovered on September 7, 2009.'\n",
      " 'Private sexual oppression is a reason for human trafficking.'\n",
      " 'The X-Files starred a vegetarian actress.'\n",
      " 'Alice Cooper graduated college on February 4th, 1948.'\n",
      " 'Caleb McLaughlin was named on the day 13th.'\n",
      " 'Duane Chapman is American.' 'Danger UXB is from 1981.'\n",
      " \"George Harrison's first marriage started in January, 1966.\"\n",
      " \"Pakistan's economy is fully industrialized.\"\n",
      " 'Designated Survivor (TV series) made millions in profit for David Guggenheim.'\n",
      " \"1978 is Ian Brennan's year of birth.\"\n",
      " 'Island Records was reviewed by Graeme Goodall.'\n",
      " 'Star Trek: Discovery is a movie.'\n",
      " 'Polynesian languages include several speakers.'\n",
      " 'The American Civil War took place in the United States.'\n",
      " 'Kentucky is known for metal music.'\n",
      " 'Gaius Julius Caesar only was the mother of a dictator.'\n",
      " 'In many navies, Commodore is used.' 'Tottenham Hotspur F.C. is British.'\n",
      " 'Mercedes-Benz is a division of Daimler AG.'\n",
      " 'Gin derives part of its flavour from berries.'\n",
      " \"The Indian Army comprises more than 80% of the building's ready technology.\"\n",
      " \"Anneliese van der Pol had an early career in musical theater before her claim to fame in That's So Raven.\"\n",
      " 'Maria Theresa reigned for only one year.'\n",
      " 'The Godfather Part II featured an Academy Award for Best Actor nominated performance by Al Pacino.'\n",
      " 'Jewell is a rapper.'\n",
      " 'Story of My Life is by One Direction and Little Mix.'\n",
      " 'L. Ron Hubbard died in September 1986.'\n",
      " \"Sensitive Skin's first series aired on Saturdays.\"\n",
      " 'Gray Matter Interactive Studios, Inc. was a computer game developer.'\n",
      " 'José Ferrer won a marathon in 1947.'\n",
      " 'In August, the Siege of Fort Stanwix began.'\n",
      " 'Carol Danvers appeared in 35 comic books published by Marvel Comics.'\n",
      " \"Beaverton, Oregon's city center is in the Grand Canyon.\"\n",
      " 'Anne Rice spent her entire life in Brooklyn.'\n",
      " 'The United States dollar is not a form of currency.'\n",
      " 'Anthony Scaramucci was born on Mars.'\n",
      " 'The Lincoln-Douglas debates occured in Freeport.'\n",
      " 'House topped the Nielsen ratings for at least three seasons.'\n",
      " 'Birthday Song (2 Chainz song) features Drake.'\n",
      " 'Samwell Tarly is killed in Game of Thrones.'\n",
      " 'Hair (musical) won a Drama Desk Award.'\n",
      " 'The horse started to become domesticated around 4000 BC.'\n",
      " 'Temple Mount is related to Judaism.' 'Duff McKagan is Canadian.'\n",
      " 'Annie is a only a painting.' \"Rio's sequel is called Rio 3.\"\n",
      " 'Mount Hood is the sixth highest point in its mountain range.'\n",
      " 'Sora (Kingdom Hearts) went on an adventure with a Disney character.'\n",
      " 'Rick Ross founded a record label in Peru.'\n",
      " 'Mary-Kate Olsen and Ashley Olsen were born on June 11th, 1999.'\n",
      " 'Diwali supports ignorance over knowledge.'\n",
      " 'Chris Kyle was not a sniper.'\n",
      " \"In the 1960's, Heavy Metal music was developed.\"\n",
      " 'Andrea Pirlo plays for two teams.'\n",
      " 'Riz Ahmed is an award nominated singer.'\n",
      " 'Cordilleran Ice Sheet was located in North America.'\n",
      " 'Zoey Deutch is an American frog.' 'Smriti Mandhana is an Indian woman.']\n"
     ]
    }
   ],
   "source": [
    "to_skip = df.select('hypothesis').to_numpy().squeeze()\n",
    "print(to_skip)"
   ]
  },
  {
   "cell_type": "code",
   "execution_count": 17,
   "metadata": {},
   "outputs": [
    {
     "data": {
      "application/vnd.jupyter.widget-view+json": {
       "model_id": "26cbd0f747f84c7eaef92e5487685cce",
       "version_major": 2,
       "version_minor": 0
      },
      "text/plain": [
       "Downloading readme:   0%|          | 0.00/5.17k [00:00<?, ?B/s]"
      ]
     },
     "metadata": {},
     "output_type": "display_data"
    },
    {
     "data": {
      "application/vnd.jupyter.widget-view+json": {
       "model_id": "bc684ece41ce42d0862e30b7e3438d93",
       "version_major": 2,
       "version_minor": 0
      },
      "text/plain": [
       "Downloading data:   0%|          | 0.00/71.1M [00:00<?, ?B/s]"
      ]
     },
     "metadata": {},
     "output_type": "display_data"
    },
    {
     "data": {
      "application/vnd.jupyter.widget-view+json": {
       "model_id": "45cddcda5a20484ba94409e6e5dd2cfd",
       "version_major": 2,
       "version_minor": 0
      },
      "text/plain": [
       "Downloading data:   0%|          | 0.00/3.25M [00:00<?, ?B/s]"
      ]
     },
     "metadata": {},
     "output_type": "display_data"
    },
    {
     "data": {
      "application/vnd.jupyter.widget-view+json": {
       "model_id": "900d881c0c2d4b029f76fb8cf99d3ccd",
       "version_major": 2,
       "version_minor": 0
      },
      "text/plain": [
       "Downloading data:   0%|          | 0.00/3.25M [00:00<?, ?B/s]"
      ]
     },
     "metadata": {},
     "output_type": "display_data"
    },
    {
     "data": {
      "application/vnd.jupyter.widget-view+json": {
       "model_id": "377abed35f874affb754bd731884649c",
       "version_major": 2,
       "version_minor": 0
      },
      "text/plain": [
       "Generating train split:   0%|          | 0/51086 [00:00<?, ? examples/s]"
      ]
     },
     "metadata": {},
     "output_type": "display_data"
    },
    {
     "data": {
      "application/vnd.jupyter.widget-view+json": {
       "model_id": "f4bee72d0afc4191bc24398f9993fb27",
       "version_major": 2,
       "version_minor": 0
      },
      "text/plain": [
       "Generating validation split:   0%|          | 0/2288 [00:00<?, ? examples/s]"
      ]
     },
     "metadata": {},
     "output_type": "display_data"
    },
    {
     "data": {
      "application/vnd.jupyter.widget-view+json": {
       "model_id": "38e02f82c3184168bc71aa9d6a968491",
       "version_major": 2,
       "version_minor": 0
      },
      "text/plain": [
       "Generating test split:   0%|          | 0/2287 [00:00<?, ? examples/s]"
      ]
     },
     "metadata": {},
     "output_type": "display_data"
    },
    {
     "name": "stdout",
     "output_type": "stream",
     "text": [
      "Dataset({\n",
      "    features: ['id', 'premise', 'hypothesis', 'label', 'wsd', 'srl'],\n",
      "    num_rows: 2287\n",
      "})\n"
     ]
    }
   ],
   "source": [
    "from datasets import load_dataset\n",
    "\n",
    "dataset = load_dataset(\"tommasobonomo/sem_augmented_fever_nli\", download_mode=\"force_redownload\")\n",
    "print(dataset['test'])"
   ]
  },
  {
   "cell_type": "code",
   "execution_count": 35,
   "metadata": {},
   "outputs": [
    {
     "name": "stderr",
     "output_type": "stream",
     "text": [
      "> processing test data: 100%|██████████| 2287/2287 [00:01<00:00, 1273.51it/s]\n",
      "> processing validation data: 100%|██████████| 2288/2288 [00:01<00:00, 1455.14it/s]\n"
     ]
    },
    {
     "data": {
      "text/plain": [
       "4423"
      ]
     },
     "execution_count": 35,
     "metadata": {},
     "output_type": "execute_result"
    }
   ],
   "source": [
    "to_keep = {\n",
    "    'cid':[], \n",
    "    'premise':[], \n",
    "    'hypothesis': [], \n",
    "    'label': []\n",
    "}\n",
    "from tqdm import tqdm\n",
    "for split in ['test', 'validation']:\n",
    "    for sample in tqdm(dataset[split], desc=f\"> processing {split} data\"):\n",
    "        #print(sample['id'])\n",
    "        if sample['premise'] == '' or sample['hypothesis'] == '': #or sample['id'] in to_skip:\n",
    "            continue\n",
    "        if sample['hypothesis'] in to_skip:\n",
    "            continue\n",
    "        to_keep['cid'].append(sample['id'])\n",
    "        to_keep['premise'].append(sample['premise'])\n",
    "        to_keep['hypothesis'].append(sample['hypothesis'])\n",
    "        to_keep['label'].append(sample['label'])\n",
    "\n",
    "to_keep_df = pl.from_dict(to_keep)\n",
    "to_keep_df.height"
   ]
  },
  {
   "cell_type": "code",
   "execution_count": 36,
   "metadata": {},
   "outputs": [
    {
     "name": "stdout",
     "output_type": "stream",
     "text": [
      "shape: (5, 4)\n",
      "┌────────┬─────────────────────────────────┬─────────────────────────────────┬────────────┐\n",
      "│ cid    ┆ premise                         ┆ hypothesis                      ┆ label      │\n",
      "│ ---    ┆ ---                             ┆ ---                             ┆ ---        │\n",
      "│ str    ┆ str                             ┆ str                             ┆ str        │\n",
      "╞════════╪═════════════════════════════════╪═════════════════════════════════╪════════════╡\n",
      "│ 36333  ┆ Underdog (film) . Directed by … ┆ Underdog was directed by a Bel… ┆ ENTAILMENT │\n",
      "│ 219708 ┆ Corsica . The island formed a … ┆ Corsica contains a city.        ┆ ENTAILMENT │\n",
      "│ 61709  ┆ Hollow Man . A direct-to-video… ┆ Hollow Man has a direct-to-vid… ┆ ENTAILMENT │\n",
      "│ 122252 ┆ Mirny was a 20-gun sloop-of-wa… ┆ The Mirny (sloop-of-war) was i… ┆ ENTAILMENT │\n",
      "│ 157183 ┆ Juventus F.C. . The club is th… ┆ Juventus F.C. has long worn a … ┆ ENTAILMENT │\n",
      "└────────┴─────────────────────────────────┴─────────────────────────────────┴────────────┘\n",
      "shape: (5, 4)\n",
      "┌────────┬─────────────────────────────────┬─────────────────────────────────┬─────────┐\n",
      "│ cid    ┆ premise                         ┆ hypothesis                      ┆ label   │\n",
      "│ ---    ┆ ---                             ┆ ---                             ┆ ---     │\n",
      "│ str    ┆ str                             ┆ str                             ┆ str     │\n",
      "╞════════╪═════════════════════════════════╪═════════════════════════════════╪═════════╡\n",
      "│ 60684  ┆ Lincoln Memorial . It is locat… ┆ The Washington Monument is wes… ┆ NEUTRAL │\n",
      "│ 104857 ┆ A monster is any creature , us… ┆ A monster may produce emotions… ┆ NEUTRAL │\n",
      "│ 107605 ┆ Chris Eubank Jr. . He is the s… ┆ Chris Eubank Jr. was an only c… ┆ NEUTRAL │\n",
      "│ 204442 ┆ Audioslave . The four-piece ba… ┆ Rage was co-founded by Brad Wi… ┆ NEUTRAL │\n",
      "│ 148799 ┆ Off the Wall . The record gain… ┆ Off the Wall won its singer a … ┆ NEUTRAL │\n",
      "└────────┴─────────────────────────────────┴─────────────────────────────────┴─────────┘\n",
      "shape: (5, 4)\n",
      "┌────────┬─────────────────────────────────┬─────────────────────────────────┬───────────────┐\n",
      "│ cid    ┆ premise                         ┆ hypothesis                      ┆ label         │\n",
      "│ ---    ┆ ---                             ┆ ---                             ┆ ---           │\n",
      "│ str    ┆ str                             ┆ str                             ┆ str           │\n",
      "╞════════╪═════════════════════════════════╪═════════════════════════════════╪═══════════════╡\n",
      "│ 151128 ┆ Quay (film) . The film premier… ┆ Quay premiered in 2017.         ┆ CONTRADICTION │\n",
      "│ 113188 ┆ Creedence Clearwater Revival ,… ┆ Creedence Clearwater Revival w… ┆ CONTRADICTION │\n",
      "│ 140430 ┆ Spider-Man 2 is a 2004 America… ┆ Spider-Man 2 is a TV series.    ┆ CONTRADICTION │\n",
      "│ 68327  ┆ Josh Hutcherson . His first fi… ┆ Josh Hutcherson wasn't in a le… ┆ CONTRADICTION │\n",
      "│ 88875  ┆ Luis Alfonso Rodríguez López…   ┆ Luis Fonsi's husband is Luis A… ┆ CONTRADICTION │\n",
      "└────────┴─────────────────────────────────┴─────────────────────────────────┴───────────────┘\n",
      "shape: (210, 4)\n",
      "┌────────┬─────────────────────────────────┬─────────────────────────────────┬───────────────┐\n",
      "│ cid    ┆ premise                         ┆ hypothesis                      ┆ label         │\n",
      "│ ---    ┆ ---                             ┆ ---                             ┆ ---           │\n",
      "│ str    ┆ str                             ┆ str                             ┆ str           │\n",
      "╞════════╪═════════════════════════════════╪═════════════════════════════════╪═══════════════╡\n",
      "│ 184052 ┆ Gangs of New York . The screen… ┆ Kenneth Lonergan is a writer o… ┆ ENTAILMENT    │\n",
      "│ 217178 ┆ Pakistan Movement . The Pakist… ┆ The Pakistan Movement was the … ┆ NEUTRAL       │\n",
      "│ 169984 ┆ The Brat Pack is a nickname gi… ┆ The Brat Pack is a nickname gi… ┆ CONTRADICTION │\n",
      "│ 120315 ┆ Bret Easton Ellis . Ellis also… ┆ Bret Easton Ellis barely wrote… ┆ CONTRADICTION │\n",
      "│ 145735 ┆ New York Knicks . The Knicks c… ┆ The New York Knicks are in the… ┆ ENTAILMENT    │\n",
      "│ …      ┆ …                               ┆ …                               ┆ …             │\n",
      "│ 188135 ┆ Prince Valiant is a 1997 Irish… ┆ Stephen Moyer played the lead … ┆ ENTAILMENT    │\n",
      "│ 195220 ┆ Kevin Bacon . His notable film… ┆ Kevin Bacon has worked with Ba… ┆ NEUTRAL       │\n",
      "│ 149901 ┆ Manchester United F.C. . Manch… ┆ Manchester United F.C. was one… ┆ ENTAILMENT    │\n",
      "│ 225298 ┆ Michaela Suzanne Watkins ( bor… ┆ Michaela Watkins has a full na… ┆ ENTAILMENT    │\n",
      "│ 134927 ┆ Warcraft (film) . Warcraft pre… ┆ Warcraft premiered globally on… ┆ ENTAILMENT    │\n",
      "└────────┴─────────────────────────────────┴─────────────────────────────────┴───────────────┘\n"
     ]
    }
   ],
   "source": [
    "sampled_e = to_keep_df.filter(pl.col('label') == 'ENTAILMENT').sample(n=70, seed=42)\n",
    "sampled_n = to_keep_df.filter(pl.col('label') == 'NEUTRAL').sample(n=70, seed=42)\n",
    "sampled_c = to_keep_df.filter(pl.col('label') == 'CONTRADICTION').sample(n=70, seed=42)\n",
    "print(sampled_e.head())\n",
    "print(sampled_n.head())\n",
    "print(sampled_c.head())\n",
    "concat = pl.concat([sampled_e, sampled_n, sampled_c]).select(pl.all().shuffle(seed=42))\n",
    "print(concat)"
   ]
  },
  {
   "cell_type": "code",
   "execution_count": 37,
   "metadata": {},
   "outputs": [
    {
     "name": "stdout",
     "output_type": "stream",
     "text": [
      "csv written.\n"
     ]
    }
   ],
   "source": [
    "concat.write_csv(\"200_FEVER_dev_samples.csv\", separator=',')\n",
    "print(\"csv written.\")"
   ]
  }
 ],
 "metadata": {
  "kernelspec": {
   "display_name": "nlp2024",
   "language": "python",
   "name": "python3"
  },
  "language_info": {
   "codemirror_mode": {
    "name": "ipython",
    "version": 3
   },
   "file_extension": ".py",
   "mimetype": "text/x-python",
   "name": "python",
   "nbconvert_exporter": "python",
   "pygments_lexer": "ipython3",
   "version": "3.9.19"
  }
 },
 "nbformat": 4,
 "nbformat_minor": 2
}
