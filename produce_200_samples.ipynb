{
 "cells": [
  {
   "cell_type": "code",
   "execution_count": 36,
   "metadata": {},
   "outputs": [
    {
     "name": "stdout",
     "output_type": "stream",
     "text": [
      "Dataset({\n",
      "    features: ['id', 'premise', 'hypothesis', 'label', 'wsd', 'srl'],\n",
      "    num_rows: 2288\n",
      "})\n",
      "Dataset({\n",
      "    features: ['id', 'premise', 'hypothesis', 'label', 'wsd', 'srl'],\n",
      "    num_rows: 2287\n",
      "})\n"
     ]
    }
   ],
   "source": [
    "import random\n",
    "random.seed(0)\n",
    "\n",
    "import polars as pl\n",
    "from datasets import load_dataset\n",
    "from tqdm import tqdm\n",
    "\n",
    "dataset = load_dataset(\"tommasobonomo/sem_augmented_fever_nli\")#    , download_mode=\"force_redownload\")\n",
    "print(dataset['validation'])\n",
    "print(dataset['test'])"
   ]
  },
  {
   "cell_type": "code",
   "execution_count": 22,
   "metadata": {},
   "outputs": [
    {
     "name": "stdout",
     "output_type": "stream",
     "text": [
      "150 samples to be skipped from 'fever_test.filtered.sampled.csv'.\n",
      "210 samples to be skipped from '200_FEVER_dev_samples.csv'.\n",
      "360 total samples to skip.\n"
     ]
    }
   ],
   "source": [
    "def samples_to_skip(path):\n",
    "    df = pl.read_csv(path)\n",
    "    to_skip = df.select('cid').to_numpy().squeeze()\n",
    "    print(f\"{len(to_skip)} samples to be skipped from '{path}'.\")\n",
    "    return to_skip.tolist()\n",
    "\n",
    "to_skip = samples_to_skip(\"fever_test.filtered.sampled.csv\")\n",
    "to_skip.extend(samples_to_skip(\"200_FEVER_dev_samples.csv\"))\n",
    "print(len(set(to_skip)), \"total samples to skip.\")"
   ]
  },
  {
   "cell_type": "code",
   "execution_count": 37,
   "metadata": {},
   "outputs": [
    {
     "name": "stderr",
     "output_type": "stream",
     "text": [
      "> processing test data: 100%|██████████| 2287/2287 [00:01<00:00, 1219.61it/s]\n",
      "> processing validation data: 100%|██████████| 2288/2288 [00:01<00:00, 1195.60it/s]"
     ]
    },
    {
     "name": "stdout",
     "output_type": "stream",
     "text": [
      "4215/4575 filtered samples.\n"
     ]
    },
    {
     "name": "stderr",
     "output_type": "stream",
     "text": [
      "\n"
     ]
    }
   ],
   "source": [
    "to_keep = {\n",
    "    'cid':[], \n",
    "    'premise':[], \n",
    "    'hypothesis': [], \n",
    "    'label': [],\n",
    "    'wsd' : [],\n",
    "    'srl' : []\n",
    "}\n",
    "for split in ['test', 'validation']:\n",
    "    for sample in tqdm(dataset[split], desc=f\"> processing {split} data\"):\n",
    "        if sample['premise'] == '' or sample['hypothesis'] == '':\n",
    "            continue\n",
    "        if int(sample['id']) in to_skip:\n",
    "            continue\n",
    "        to_keep['cid'].append(sample['id'])\n",
    "        to_keep['premise'].append(sample['premise'])\n",
    "        to_keep['hypothesis'].append(sample['hypothesis'])\n",
    "        to_keep['label'].append(sample['label'])\n",
    "        to_keep['wsd'].append(str(sample['wsd']))\n",
    "        to_keep['srl'].append(str(sample['srl']))\n",
    "\n",
    "\n",
    "to_keep_df = pl.from_dict(to_keep)\n",
    "print(f\"{to_keep_df.height}/{dataset['test'].num_rows + dataset['validation'].num_rows} filtered samples.\")"
   ]
  },
  {
   "cell_type": "code",
   "execution_count": 38,
   "metadata": {},
   "outputs": [
    {
     "name": "stdout",
     "output_type": "stream",
     "text": [
      "shape: (5, 6)\n",
      "┌────────┬───────────────────────┬──────────────────────┬────────────┬───────────────┬─────────────┐\n",
      "│ cid    ┆ premise               ┆ hypothesis           ┆ label      ┆ wsd           ┆ srl         │\n",
      "│ ---    ┆ ---                   ┆ ---                  ┆ ---        ┆ ---           ┆ ---         │\n",
      "│ str    ┆ str                   ┆ str                  ┆ str        ┆ str           ┆ str         │\n",
      "╞════════╪═══════════════════════╪══════════════════════╪════════════╪═══════════════╪═════════════╡\n",
      "│ 18346  ┆ Brie Larson . As a    ┆ Brie Larson was in a ┆ ENTAILMENT ┆ {'premise':   ┆ {'premise': │\n",
      "│        ┆ teenager , …          ┆ starring …           ┆            ┆ [{'index': 0, ┆ {'tokens':  │\n",
      "│        ┆                       ┆                      ┆            ┆ 'tex…         ┆ [{'inde…    │\n",
      "│ 228324 ┆ Island Records . It   ┆ Jamaica is the place ┆ ENTAILMENT ┆ {'premise':   ┆ {'premise': │\n",
      "│        ┆ was founde…           ┆ where Isl…           ┆            ┆ [{'index': 0, ┆ {'tokens':  │\n",
      "│        ┆                       ┆                      ┆            ┆ 'tex…         ┆ [{'inde…    │\n",
      "│ 59048  ┆ Samuel George Claflin ┆ Sam Claflin is an    ┆ ENTAILMENT ┆ {'premise':   ┆ {'premise': │\n",
      "│        ┆ ( born 2…             ┆ actor.               ┆            ┆ [{'index': 0, ┆ {'tokens':  │\n",
      "│        ┆                       ┆                      ┆            ┆ 'tex…         ┆ [{'inde…    │\n",
      "│ 15058  ┆ Taylor Lautner .      ┆ Taylor Lautner       ┆ ENTAILMENT ┆ {'premise':   ┆ {'premise': │\n",
      "│        ┆ Lautner later…        ┆ appeared on tel…     ┆            ┆ [{'index': 0, ┆ {'tokens':  │\n",
      "│        ┆                       ┆                      ┆            ┆ 'tex…         ┆ [{'inde…    │\n",
      "│ 113361 ┆ The Eurotas or        ┆ Eurotas (river) is   ┆ ENTAILMENT ┆ {'premise':   ┆ {'premise': │\n",
      "│        ┆ Evrotas ( Greek…      ┆ in Europe.           ┆            ┆ [{'index': 0, ┆ {'tokens':  │\n",
      "│        ┆                       ┆                      ┆            ┆ 'tex…         ┆ [{'inde…    │\n",
      "└────────┴───────────────────────┴──────────────────────┴────────────┴───────────────┴─────────────┘\n",
      "shape: (5, 6)\n",
      "┌────────┬─────────────────────┬───────────────────────────┬─────────┬───────────────┬─────────────┐\n",
      "│ cid    ┆ premise             ┆ hypothesis                ┆ label   ┆ wsd           ┆ srl         │\n",
      "│ ---    ┆ ---                 ┆ ---                       ┆ ---     ┆ ---           ┆ ---         │\n",
      "│ str    ┆ str                 ┆ str                       ┆ str     ┆ str           ┆ str         │\n",
      "╞════════╪═════════════════════╪═══════════════════════════╪═════════╪═══════════════╪═════════════╡\n",
      "│ 73934  ┆ Poseidon (film) .   ┆ Poseidon earned money at  ┆ NEUTRAL ┆ {'premise':   ┆ {'premise': │\n",
      "│        ┆ Poseidon gro…       ┆ the i…                    ┆         ┆ [{'index': 0, ┆ {'tokens':  │\n",
      "│        ┆                     ┆                           ┆         ┆ 'tex…         ┆ [{'inde…    │\n",
      "│ 154642 ┆ Damon Albarn .      ┆ Damon Albarn released at  ┆ NEUTRAL ┆ {'premise':   ┆ {'premise': │\n",
      "│        ┆ Subsequent albu…    ┆ least…                    ┆         ┆ [{'index': 0, ┆ {'tokens':  │\n",
      "│        ┆                     ┆                           ┆         ┆ 'tex…         ┆ [{'inde…    │\n",
      "│ 161537 ┆ Australia is a 2008 ┆ Baz Luhrmann's film       ┆ NEUTRAL ┆ {'premise':   ┆ {'premise': │\n",
      "│        ┆ Australian…         ┆ Australia …               ┆         ┆ [{'index': 0, ┆ {'tokens':  │\n",
      "│        ┆                     ┆                           ┆         ┆ 'tex…         ┆ [{'inde…    │\n",
      "│ 188962 ┆ William Sebastian   ┆ William Cohen is          ┆ NEUTRAL ┆ {'premise':   ┆ {'premise': │\n",
      "│        ┆ Cohen ( born…       ┆ American.                 ┆         ┆ [{'index': 0, ┆ {'tokens':  │\n",
      "│        ┆                     ┆                           ┆         ┆ 'tex…         ┆ [{'inde…    │\n",
      "│ 86543  ┆ Sam Claflin . He is ┆ Sam Claflin is in Pirate  ┆ NEUTRAL ┆ {'premise':   ┆ {'premise': │\n",
      "│        ┆ known for …         ┆ of th…                    ┆         ┆ [{'index': 0, ┆ {'tokens':  │\n",
      "│        ┆                     ┆                           ┆         ┆ 'tex…         ┆ [{'inde…    │\n",
      "└────────┴─────────────────────┴───────────────────────────┴─────────┴───────────────┴─────────────┘\n",
      "shape: (5, 6)\n",
      "┌────────┬─────────────────────┬─────────────────────┬───────────────┬───────────────┬─────────────┐\n",
      "│ cid    ┆ premise             ┆ hypothesis          ┆ label         ┆ wsd           ┆ srl         │\n",
      "│ ---    ┆ ---                 ┆ ---                 ┆ ---           ┆ ---           ┆ ---         │\n",
      "│ str    ┆ str                 ┆ str                 ┆ str           ┆ str           ┆ str         │\n",
      "╞════════╪═════════════════════╪═════════════════════╪═══════════════╪═══════════════╪═════════════╡\n",
      "│ 171529 ┆ Fringe (TV series)  ┆ Fringe concluded in ┆ CONTRADICTION ┆ {'premise':   ┆ {'premise': │\n",
      "│        ┆ . It premie…        ┆ 2011.               ┆               ┆ [{'index': 0, ┆ {'tokens':  │\n",
      "│        ┆                     ┆                     ┆               ┆ 'tex…         ┆ [{'inde…    │\n",
      "│ 183498 ┆ Estelle Getty ( née ┆ Estelle Getty was   ┆ CONTRADICTION ┆ {'premise':   ┆ {'premise': │\n",
      "│        ┆ Scher ; a…          ┆ solely Japan…       ┆               ┆ [{'index': 0, ┆ {'tokens':  │\n",
      "│        ┆                     ┆                     ┆               ┆ 'tex…         ┆ [{'inde…    │\n",
      "│ 127416 ┆ Wish Upon is a 2017 ┆ Wish Upon did not   ┆ CONTRADICTION ┆ {'premise':   ┆ {'premise': │\n",
      "│        ┆ supernatur…         ┆ star Joey Ki…       ┆               ┆ [{'index': 0, ┆ {'tokens':  │\n",
      "│        ┆                     ┆                     ┆               ┆ 'tex…         ┆ [{'inde…    │\n",
      "│ 77869  ┆ A River Runs        ┆ A River Runs        ┆ CONTRADICTION ┆ {'premise':   ┆ {'premise': │\n",
      "│        ┆ Through It (film)…  ┆ Through It has lo…  ┆               ┆ [{'index': 0, ┆ {'tokens':  │\n",
      "│        ┆                     ┆                     ┆               ┆ 'tex…         ┆ [{'inde…    │\n",
      "│ 139317 ┆ Due Date . The film ┆ Due Date was shot   ┆ CONTRADICTION ┆ {'premise':   ┆ {'premise': │\n",
      "│        ┆ was shot i…         ┆ in space.           ┆               ┆ [{'index': 0, ┆ {'tokens':  │\n",
      "│        ┆                     ┆                     ┆               ┆ 'tex…         ┆ [{'inde…    │\n",
      "└────────┴─────────────────────┴─────────────────────┴───────────────┴───────────────┴─────────────┘\n",
      "shape: (105, 6)\n",
      "┌────────┬─────────────────────┬─────────────────────┬───────────────┬───────────────┬─────────────┐\n",
      "│ cid    ┆ premise             ┆ hypothesis          ┆ label         ┆ wsd           ┆ srl         │\n",
      "│ ---    ┆ ---                 ┆ ---                 ┆ ---           ┆ ---           ┆ ---         │\n",
      "│ str    ┆ str                 ┆ str                 ┆ str           ┆ str           ┆ str         │\n",
      "╞════════╪═════════════════════╪═════════════════════╪═══════════════╪═══════════════╪═════════════╡\n",
      "│ 113361 ┆ The Eurotas or      ┆ Eurotas (river) is  ┆ ENTAILMENT    ┆ {'premise':   ┆ {'premise': │\n",
      "│        ┆ Evrotas ( Greek…    ┆ in Europe.          ┆               ┆ [{'index': 0, ┆ {'tokens':  │\n",
      "│        ┆                     ┆                     ┆               ┆ 'tex…         ┆ [{'inde…    │\n",
      "│ 200290 ┆ Natural Born        ┆ Natural Born        ┆ CONTRADICTION ┆ {'premise':   ┆ {'premise': │\n",
      "│        ┆ Killers . The fil…  ┆ Killers was based…  ┆               ┆ [{'index': 0, ┆ {'tokens':  │\n",
      "│        ┆                     ┆                     ┆               ┆ 'tex…         ┆ [{'inde…    │\n",
      "│ 95271  ┆ Crown Heights       ┆ Keith Stanfield is  ┆ CONTRADICTION ┆ {'premise':   ┆ {'premise': │\n",
      "│        ┆ (film) . The fil…   ┆ a singer.           ┆               ┆ [{'index': 0, ┆ {'tokens':  │\n",
      "│        ┆                     ┆                     ┆               ┆ 'tex…         ┆ [{'inde…    │\n",
      "│ 120983 ┆ Trouble with the    ┆ Trouble with the    ┆ CONTRADICTION ┆ {'premise':   ┆ {'premise': │\n",
      "│        ┆ Curve is a 20…      ┆ Curve was dir…      ┆               ┆ [{'index': 0, ┆ {'tokens':  │\n",
      "│        ┆                     ┆                     ┆               ┆ 'tex…         ┆ [{'inde…    │\n",
      "│ 86543  ┆ Sam Claflin . He is ┆ Sam Claflin is in   ┆ NEUTRAL       ┆ {'premise':   ┆ {'premise': │\n",
      "│        ┆ known for …         ┆ Pirate of th…       ┆               ┆ [{'index': 0, ┆ {'tokens':  │\n",
      "│        ┆                     ┆                     ┆               ┆ 'tex…         ┆ [{'inde…    │\n",
      "│ …      ┆ …                   ┆ …                   ┆ …             ┆ …             ┆ …           │\n",
      "│ 223684 ┆ UNICEF UK , also    ┆ UNICEF UK is a      ┆ NEUTRAL       ┆ {'premise':   ┆ {'premise': │\n",
      "│        ┆ known as the …      ┆ UNICEF National…    ┆               ┆ [{'index': 0, ┆ {'tokens':  │\n",
      "│        ┆                     ┆                     ┆               ┆ 'tex…         ┆ [{'inde…    │\n",
      "│ 139317 ┆ Due Date . The film ┆ Due Date was shot   ┆ CONTRADICTION ┆ {'premise':   ┆ {'premise': │\n",
      "│        ┆ was shot i…         ┆ in space.           ┆               ┆ [{'index': 0, ┆ {'tokens':  │\n",
      "│        ┆                     ┆                     ┆               ┆ 'tex…         ┆ [{'inde…    │\n",
      "│ 67244  ┆ Duke of York . The  ┆ The current Duke of ┆ ENTAILMENT    ┆ {'premise':   ┆ {'premise': │\n",
      "│        ┆ current Duk…        ┆ York is a …         ┆               ┆ [{'index': 0, ┆ {'tokens':  │\n",
      "│        ┆                     ┆                     ┆               ┆ 'tex…         ┆ [{'inde…    │\n",
      "│ 1597   ┆ The Bloods are a    ┆ The Bloods was      ┆ ENTAILMENT    ┆ {'premise':   ┆ {'premise': │\n",
      "│        ┆ primarily , t…      ┆ founded in Cali…    ┆               ┆ [{'index': 0, ┆ {'tokens':  │\n",
      "│        ┆                     ┆                     ┆               ┆ 'tex…         ┆ [{'inde…    │\n",
      "│ 7330   ┆ Michael Kelland     ┆ Sydney is where     ┆ ENTAILMENT    ┆ {'premise':   ┆ {'premise': │\n",
      "│        ┆ John Hutchence…     ┆ Michael Hutche…     ┆               ┆ [{'index': 0, ┆ {'tokens':  │\n",
      "│        ┆                     ┆                     ┆               ┆ 'tex…         ┆ [{'inde…    │\n",
      "└────────┴─────────────────────┴─────────────────────┴───────────────┴───────────────┴─────────────┘\n"
     ]
    }
   ],
   "source": [
    "sampled_e = to_keep_df.filter(pl.col('label') == 'ENTAILMENT').sample(n=35, seed=42)\n",
    "sampled_n = to_keep_df.filter(pl.col('label') == 'NEUTRAL').sample(n=35, seed=42)\n",
    "sampled_c = to_keep_df.filter(pl.col('label') == 'CONTRADICTION').sample(n=35, seed=42)\n",
    "print(sampled_e.head())\n",
    "print(sampled_n.head())\n",
    "print(sampled_c.head())\n",
    "concat = pl.concat([sampled_e, sampled_n, sampled_c]).select(pl.all().shuffle(seed=42))\n",
    "print(concat)"
   ]
  },
  {
   "cell_type": "code",
   "execution_count": 39,
   "metadata": {},
   "outputs": [
    {
     "name": "stdout",
     "output_type": "stream",
     "text": [
      "csv written.\n"
     ]
    }
   ],
   "source": [
    "concat.write_csv(input(\"type file name: \"), separator=',')\n",
    "print(\"csv written.\")"
   ]
  }
 ],
 "metadata": {
  "kernelspec": {
   "display_name": "nlp2024",
   "language": "python",
   "name": "python3"
  },
  "language_info": {
   "codemirror_mode": {
    "name": "ipython",
    "version": 3
   },
   "file_extension": ".py",
   "mimetype": "text/x-python",
   "name": "python",
   "nbconvert_exporter": "python",
   "pygments_lexer": "ipython3",
   "version": "3.11.9"
  }
 },
 "nbformat": 4,
 "nbformat_minor": 2
}
