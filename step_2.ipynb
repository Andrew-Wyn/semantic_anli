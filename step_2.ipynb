{
 "cells": [
  {
   "cell_type": "markdown",
   "metadata": {},
   "source": [
    "# Step 2\n",
    "This notebook will simply give you the prompt so that you can copy-paste it in ChatGPT-4o.\n",
    "The prompt will contain the premise, the hypothesis and the label.\n",
    "As for the previous notebook, you can resume your work by typing the ID of the last processed sentence (type -1 to start)."
   ]
  },
  {
   "cell_type": "code",
   "execution_count": 3,
   "metadata": {},
   "outputs": [
    {
     "name": "stdout",
     "output_type": "stream",
     "text": [
      "shape: (5, 13)\n",
      "┌─────┬────────┬─────────────────┬─────────────────┬───┬────────────┬────────┬────────┬────────────┐\n",
      "│ ID  ┆ CID    ┆ PREMISE         ┆ HYPOTHESIS      ┆ … ┆ BASE MODEL ┆ LARGE1 ┆ LARGE2 ┆ DIFFICULTY │\n",
      "│ --- ┆ ---    ┆ ---             ┆ ---             ┆   ┆ ---        ┆ MODEL  ┆ MODEL  ┆ SCORE      │\n",
      "│ i64 ┆ i64    ┆ str             ┆ str             ┆   ┆ str        ┆ ---    ┆ ---    ┆ ---        │\n",
      "│     ┆        ┆                 ┆                 ┆   ┆            ┆ str    ┆ str    ┆ str        │\n",
      "╞═════╪════════╪═════════════════╪═════════════════╪═══╪════════════╪════════╪════════╪════════════╡\n",
      "│ 0   ┆ 58846  ┆ Johnny Galecki  ┆ Johnny Galecki  ┆ … ┆ null       ┆ null   ┆ null   ┆ null       │\n",
      "│     ┆        ┆ . He is known   ┆ has been in at  ┆   ┆            ┆        ┆        ┆            │\n",
      "│     ┆        ┆ f…              ┆ …               ┆   ┆            ┆        ┆        ┆            │\n",
      "│ 1   ┆ 172460 ┆ Matteo Renzi (  ┆ Matteo Renzi    ┆ … ┆ null       ┆ null   ┆ null   ┆ null       │\n",
      "│     ┆        ┆ [ matˈtɛːo      ┆ served as Prime ┆   ┆            ┆        ┆        ┆            │\n",
      "│     ┆        ┆ ˈrɛn…           ┆ M…              ┆   ┆            ┆        ┆        ┆            │\n",
      "│ 2   ┆ 181201 ┆ Southpaw is a   ┆ Southpaw was    ┆ … ┆ null       ┆ null   ┆ null   ┆ null       │\n",
      "│     ┆        ┆ 2015 American   ┆ released 2011.  ┆   ┆            ┆        ┆        ┆            │\n",
      "│     ┆        ┆ sp…             ┆                 ┆   ┆            ┆        ┆        ┆            │\n",
      "│ 3   ┆ 174024 ┆ Pink Floyd .    ┆ The Endless     ┆ … ┆ null       ┆ null   ┆ null   ┆ null       │\n",
      "│     ┆        ┆ The final Pink  ┆ River is Pink   ┆   ┆            ┆        ┆        ┆            │\n",
      "│     ┆        ┆ Fl…             ┆ Floy…           ┆   ┆            ┆        ┆        ┆            │\n",
      "│ 4   ┆ 118068 ┆ Beatles Day .   ┆ Liverpool is    ┆ … ┆ null       ┆ null   ┆ null   ┆ null       │\n",
      "│     ┆        ┆ This day is     ┆ unrelated to    ┆   ┆            ┆        ┆        ┆            │\n",
      "│     ┆        ┆ cons…           ┆ The …           ┆   ┆            ┆        ┆        ┆            │\n",
      "└─────┴────────┴─────────────────┴─────────────────┴───┴────────────┴────────┴────────┴────────────┘\n",
      "150 samples\n"
     ]
    }
   ],
   "source": [
    "import polars as pl\n",
    "\n",
    "df = pl.read_csv(\"fever_test.adversarial.csv\")\n",
    "print(df.head())\n",
    "print(df.height, 'samples')"
   ]
  },
  {
   "cell_type": "code",
   "execution_count": 4,
   "metadata": {},
   "outputs": [],
   "source": [
    "def prompt(premise, hypothesis):\n",
    "    return f\"{premise}\\n{hypothesis}\""
   ]
  },
  {
   "cell_type": "code",
   "execution_count": 6,
   "metadata": {},
   "outputs": [
    {
     "name": "stdout",
     "output_type": "stream",
     "text": [
      "------------------------------\n",
      "[ID 0 - CID 58846]\n"
     ]
    },
    {
     "ename": "KeyError",
     "evalue": "'NEW HYPOTHESIS'",
     "output_type": "error",
     "traceback": [
      "\u001b[0;31m---------------------------------------------------------------------------\u001b[0m",
      "\u001b[0;31mKeyError\u001b[0m                                  Traceback (most recent call last)",
      "Cell \u001b[0;32mIn[6], line 9\u001b[0m\n\u001b[1;32m      7\u001b[0m \u001b[38;5;28mprint\u001b[39m(\u001b[38;5;124m\"\u001b[39m\u001b[38;5;124m-\u001b[39m\u001b[38;5;124m\"\u001b[39m\u001b[38;5;241m*\u001b[39m\u001b[38;5;241m30\u001b[39m)\n\u001b[1;32m      8\u001b[0m \u001b[38;5;28mprint\u001b[39m(\u001b[38;5;124mf\u001b[39m\u001b[38;5;124m\"\u001b[39m\u001b[38;5;124m[ID \u001b[39m\u001b[38;5;132;01m{\u001b[39;00mi\u001b[38;5;132;01m}\u001b[39;00m\u001b[38;5;124m - CID \u001b[39m\u001b[38;5;132;01m{\u001b[39;00melem[\u001b[38;5;124m'\u001b[39m\u001b[38;5;124mCID\u001b[39m\u001b[38;5;124m'\u001b[39m]\u001b[38;5;132;01m}\u001b[39;00m\u001b[38;5;124m]\u001b[39m\u001b[38;5;124m\"\u001b[39m)\n\u001b[0;32m----> 9\u001b[0m \u001b[38;5;28mprint\u001b[39m(prompt(elem[\u001b[38;5;124m'\u001b[39m\u001b[38;5;124mPREMISE\u001b[39m\u001b[38;5;124m'\u001b[39m], \u001b[43melem\u001b[49m\u001b[43m[\u001b[49m\u001b[38;5;124;43m'\u001b[39;49m\u001b[38;5;124;43mNEW HYPOTHESIS\u001b[39;49m\u001b[38;5;124;43m'\u001b[39;49m\u001b[43m]\u001b[49m))\n\u001b[1;32m     10\u001b[0m \u001b[38;5;28minput\u001b[39m(\u001b[38;5;124m\"\u001b[39m\u001b[38;5;124mEnter to continue\u001b[39m\u001b[38;5;124m\"\u001b[39m)\n",
      "\u001b[0;31mKeyError\u001b[0m: 'NEW HYPOTHESIS'"
     ]
    }
   ],
   "source": [
    "last = int(input(\"If you are resuming, enter the last ID you worked on (otherwise 0): \"))\n",
    "assert last < df.height, f\"You entered an ID value that is higher than the size of the dataset -- Rerun this cell.\"\n",
    "\n",
    "for i, elem in enumerate(df.iter_rows(named=True)):\n",
    "    if i <= last:\n",
    "        continue\n",
    "    print(\"-\"*30)\n",
    "    print(f\"[ID {i} - CID {elem['CID']}]\")\n",
    "    print(prompt(elem['PREMISE'], elem['NEW HYPOTHESIS']))\n",
    "    input(\"Enter to continue\")"
   ]
  }
 ],
 "metadata": {
  "kernelspec": {
   "display_name": "nlp2024",
   "language": "python",
   "name": "python3"
  },
  "language_info": {
   "codemirror_mode": {
    "name": "ipython",
    "version": 3
   },
   "file_extension": ".py",
   "mimetype": "text/x-python",
   "name": "python",
   "nbconvert_exporter": "python",
   "pygments_lexer": "ipython3",
   "version": "3.11.9"
  }
 },
 "nbformat": 4,
 "nbformat_minor": 2
}
