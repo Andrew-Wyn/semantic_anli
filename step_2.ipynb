{
 "cells": [
  {
   "cell_type": "markdown",
   "metadata": {},
   "source": [
    "# Step 2\n",
    "This notebook will simply give you the prompt so that you can copy-paste it in ChatGPT-4o.\n",
    "The prompt will contain the premise, the hypothesis and the label.\n",
    "As for the previous notebook, you can resume your work by typing the ID of the last processed sentence (type -1 to start)."
   ]
  },
  {
   "cell_type": "code",
   "execution_count": 7,
   "metadata": {},
   "outputs": [
    {
     "name": "stdout",
     "output_type": "stream",
     "text": [
      "shape: (5, 13)\n",
      "┌─────┬────────┬─────────────────┬─────────────────┬───┬────────────┬────────┬────────┬────────────┐\n",
      "│ ID  ┆ CID    ┆ PREMISE         ┆ HYPOTHESIS      ┆ … ┆ BASE MODEL ┆ LARGE1 ┆ LARGE2 ┆ DIFFICULTY │\n",
      "│ --- ┆ ---    ┆ ---             ┆ ---             ┆   ┆ ---        ┆ MODEL  ┆ MODEL  ┆ SCORE      │\n",
      "│ i64 ┆ i64    ┆ str             ┆ str             ┆   ┆ str        ┆ ---    ┆ ---    ┆ ---        │\n",
      "│     ┆        ┆                 ┆                 ┆   ┆            ┆ str    ┆ str    ┆ str        │\n",
      "╞═════╪════════╪═════════════════╪═════════════════╪═══╪════════════╪════════╪════════╪════════════╡\n",
      "│ 0   ┆ 58846  ┆ Johnny Galecki  ┆ Johnny Galecki  ┆ … ┆ null       ┆ null   ┆ null   ┆ null       │\n",
      "│     ┆        ┆ . He is known   ┆ has been in at  ┆   ┆            ┆        ┆        ┆            │\n",
      "│     ┆        ┆ f…              ┆ …               ┆   ┆            ┆        ┆        ┆            │\n",
      "│ 1   ┆ 172460 ┆ Matteo Renzi (  ┆ Matteo Renzi    ┆ … ┆ null       ┆ null   ┆ null   ┆ null       │\n",
      "│     ┆        ┆ [ matˈtɛːo      ┆ served as Prime ┆   ┆            ┆        ┆        ┆            │\n",
      "│     ┆        ┆ ˈrɛn…           ┆ M…              ┆   ┆            ┆        ┆        ┆            │\n",
      "│ 2   ┆ 181201 ┆ Southpaw is a   ┆ Southpaw was    ┆ … ┆ null       ┆ null   ┆ null   ┆ null       │\n",
      "│     ┆        ┆ 2015 American   ┆ released 2011.  ┆   ┆            ┆        ┆        ┆            │\n",
      "│     ┆        ┆ sp…             ┆                 ┆   ┆            ┆        ┆        ┆            │\n",
      "│ 3   ┆ 174024 ┆ Pink Floyd .    ┆ The Endless     ┆ … ┆ null       ┆ null   ┆ null   ┆ null       │\n",
      "│     ┆        ┆ The final Pink  ┆ River is Pink   ┆   ┆            ┆        ┆        ┆            │\n",
      "│     ┆        ┆ Fl…             ┆ Floy…           ┆   ┆            ┆        ┆        ┆            │\n",
      "│ 4   ┆ 118068 ┆ Beatles Day .   ┆ Liverpool is    ┆ … ┆ null       ┆ null   ┆ null   ┆ null       │\n",
      "│     ┆        ┆ This day is     ┆ unrelated to    ┆   ┆            ┆        ┆        ┆            │\n",
      "│     ┆        ┆ cons…           ┆ The …           ┆   ┆            ┆        ┆        ┆            │\n",
      "└─────┴────────┴─────────────────┴─────────────────┴───┴────────────┴────────┴────────┴────────────┘\n",
      "150 samples\n"
     ]
    }
   ],
   "source": [
    "import polars as pl\n",
    "\n",
    "df = pl.read_csv(\"fever_test.adversarial.csv\")\n",
    "print(df.head())\n",
    "print(df.height, 'samples')"
   ]
  },
  {
   "cell_type": "code",
   "execution_count": 8,
   "metadata": {},
   "outputs": [],
   "source": [
    "def prompt(premise, hypothesis):\n",
    "    return f\"{premise}\\n{hypothesis}\""
   ]
  },
  {
   "cell_type": "code",
   "execution_count": 11,
   "metadata": {},
   "outputs": [
    {
     "name": "stdout",
     "output_type": "stream",
     "text": [
      "------------------------------\n",
      "[ID 3 - CID 174024]\n",
      "Pink Floyd . The final Pink Floyd studio album , The Endless River ( 2014 ) , was recorded without Waters and based largely on unreleased material . The Endless River is the fifteenth and final studio album by the English rock band Pink Floyd . It was the third Pink Floyd album led by guitarist and singer David Gilmour following Roger Waters ' departure in 1985 and the first following the death of keyboardist Rick Wright in 2008 , who appears posthumously .\n",
      "counting Pink Floyd's albums from last to first, The Endless River is the last one to be counted\n",
      "------------------------------\n",
      "[ID 4 - CID 118068]\n",
      "Beatles Day . This day is considered one of the landmarks in their rise to fame , and , since 2008 , its anniversary has been celebrated as Beatles Day in both Liverpool and Hamburg , the cities where the Fab Four laid the foundations for their stardom . Liverpool . The popularity of The Beatles and other groups from the Merseybeat era contributes to Liverpool 's status as a tourist destination . The Beatles were an English rock band formed in Liverpool in 1960 . The Beatles built their reputation playing clubs in Liverpool and Hamburg over a three-year period from 1960 , with Stuart Sutcliffe initially serving as bass player .\n",
      "Beatles Day was celebrated 20 years before 2024 \n"
     ]
    }
   ],
   "source": [
    "last = int(input(\"If you are resuming, enter the last ID you worked on (otherwise 0): \"))\n",
    "assert last < df.height, f\"You entered an ID value that is higher than the size of the dataset -- Rerun this cell.\"\n",
    "\n",
    "for i, elem in enumerate(df.iter_rows(named=True)):\n",
    "    if i <= last:\n",
    "        continue\n",
    "    print(\"-\"*30, flush=True)\n",
    "    print(f\"[ID {i} - CID {elem['CID']}]\", flush=True)\n",
    "    print(prompt(elem['PREMISE'], elem['NEW HYPOTHESIS']), flush=True)\n",
    "    if input(\"Enter to continue\").lower() == 'n':\n",
    "        break"
   ]
  }
 ],
 "metadata": {
  "kernelspec": {
   "display_name": "nlp2024",
   "language": "python",
   "name": "python3"
  },
  "language_info": {
   "codemirror_mode": {
    "name": "ipython",
    "version": 3
   },
   "file_extension": ".py",
   "mimetype": "text/x-python",
   "name": "python",
   "nbconvert_exporter": "python",
   "pygments_lexer": "ipython3",
   "version": "3.11.9"
  }
 },
 "nbformat": 4,
 "nbformat_minor": 2
}
